{
  "cells": [
    {
      "cell_type": "markdown",
      "id": "18002aa6-39a1-4e71-8749-324e2f615f31",
      "metadata": {
        "nteract": {
          "transient": {
            "deleting": false
          }
        }
      },
      "source": [
        "## Introduction\n",
        "\n",
        "Knowledge bases in enterprises are very common in the industry today and can have extensive number of documents in different categories. Retrieving relevant content based on a user query is a challenging task.  Given a query we were able to retrieve information accurately at the document level using methods such as Page Rank developed and made highly accurate especially by Google,  after this point the user has to delve into the document and search for the relevant information.  With recent advances in Foundation Models such as the one developed by Open AI the challenge is alleviated by using “Semantic Search” methods by using encoding information such as “Embeddings” to find the relevant information and then to summarize the content to present to the user in a concise and succinct manner.  \n",
        "\n",
        "This notebook will introduce the Use Case and will walk you through leveraging Azure Cognitive Search to extract relevant documents and leveraging the power of GPT-3 to address relevant part of the document, and provide a summary based on the prompt (instruction given to the model). It aims to demonstrate how to use Azure OpenAI’s GPT-3 capabilities to adapt to your summarization case, and how to set up and evaluate summarization results. The method is customizable to your summarization use case and can be applied to many different datasets. "
      ]
    },
    {
      "cell_type": "markdown",
      "id": "2f2d0025-3952-481b-9615-cfe5ee198f66",
      "metadata": {
        "nteract": {
          "transient": {
            "deleting": false
          }
        }
      },
      "source": [
        "## Use Case\n",
        "\n",
        "This use case consists of three sections:\n",
        "- Document search\n",
        "- Document Zone search\n",
        "- Text summarization\n",
        "\n",
        "Document Search is the process of extracting relevant document based on the query from a corpus of documents.\n",
        "Document Zone search is the process of finding the relevant part of the document extracted from document search.\n",
        "Text summarization is the process of creating summaries from large volumes of data while maintaining significant informational elements and content value. \n",
        "This use case can be useful in helping subject matter experts in finding relevant information from large document corpus.\n",
        "Example: In the drug discovery process, scientists in pharmaceutical industry read a corpus of documents to find specific information related to concepts, experiment results etc. This use case enables them to ask questions from the document corpus and the solution will come back with the succinct answer. Consequently, expediting the drug discovery process.\n",
        " \n",
        "Benefits of the solution:\n",
        "1. Shortens reading time\n",
        "2. Improves the effectiveness of searching for information\n",
        "3. Removes bias from human summarization techniques\n",
        "4. Increases bandwidth for humans to focus on more in-depth analysis \n",
        "\n",
        "\n",
        "The need for document summarization be applied to any subject matter (legal, financial, journalist, medical, academic, etc) that requires long document summarization. The subject matter that this notebook is focusing on is journalistic - we will walk through news articles. If the topic gets more domain specific, fine-tuning of the GPT3-model would work better rather than just using the few-shot or zero-shot example methods.  \n"
      ]
    },
    {
      "cell_type": "markdown",
      "id": "85743c37-40f6-493f-9eaa-e9c4857ba8eb",
      "metadata": {
        "nteract": {
          "transient": {
            "deleting": false
          }
        }
      },
      "source": [
        "## CNN daily mail dataset\n",
        "For this walkthrough, we will be using the CNN/Daily Mail dataset. This is a common dataset used for text summarization and question answering tasks. Human generated abstractive summary bullets were generated from news stories in CNN and Daily Mail websites.\n",
        "\n",
        "\n",
        "## Data Description\n",
        "The relevant schema for our work today consists of:\n",
        "\n",
        "- id: a string containing the heximal formatted SHA1 hash of the URL where the story was retrieved from\n",
        "- article: a string containing the body of the news article\n",
        "- highlights: a string containing the highlight of the article as written by the article author\n"
      ]
    },
    {
      "cell_type": "markdown",
      "id": "d51fdcf4-31f1-4775-950e-2b53c4116e60",
      "metadata": {
        "nteract": {
          "transient": {
            "deleting": false
          }
        }
      },
      "source": [
        "## Import python modules"
      ]
    },
    {
      "cell_type": "code",
      "execution_count": 1,
      "id": "5d042ffa-0868-4fd7-b4db-4886de3ec91c",
      "metadata": {
        "gather": {
          "logged": 1675138707943
        },
        "jupyter": {
          "outputs_hidden": false,
          "source_hidden": false
        },
        "nteract": {
          "transient": {
            "deleting": false
          }
        }
      },
      "outputs": [
        {
          "name": "stderr",
          "output_type": "stream",
          "text": [
            "/anaconda/envs/azureml_py310_sdkv2/lib/python3.10/site-packages/tqdm/auto.py:21: TqdmWarning: IProgress not found. Please update jupyter and ipywidgets. See https://ipywidgets.readthedocs.io/en/stable/user_install.html\n",
            "  from .autonotebook import tqdm as notebook_tqdm\n",
            "None of PyTorch, TensorFlow >= 2.0, or Flax have been found. Models won't be available and only tokenizers, configuration and file/data utilities can be used.\n"
          ]
        },
        {
          "data": {
            "text/plain": [
              "True"
            ]
          },
          "execution_count": 1,
          "metadata": {},
          "output_type": "execute_result"
        }
      ],
      "source": [
        "import pandas as pd\n",
        "from azure.core.credentials import AzureKeyCredential\n",
        "from azure.search.documents.indexes import SearchIndexClient \n",
        "from azure.search.documents import SearchClient\n",
        "import openai\n",
        "import re\n",
        "import requests\n",
        "import sys\n",
        "import os\n",
        "import numpy as np\n",
        "from openai.embeddings_utils import get_embedding, cosine_similarity\n",
        "from transformers import GPT2TokenizerFast\n",
        "from dotenv import load_dotenv\n",
        "load_dotenv()"
      ]
    },
    {
      "cell_type": "code",
      "execution_count": 2,
      "id": "d3e245f2-3315-4eb1-80d2-80ea22a241c2",
      "metadata": {
        "gather": {
          "logged": 1675139533977
        },
        "jupyter": {
          "outputs_hidden": false,
          "source_hidden": false
        },
        "nteract": {
          "transient": {
            "deleting": false
          }
        }
      },
      "outputs": [
        {
          "data": {
            "text/html": [
              "<div>\n",
              "<style scoped>\n",
              "    .dataframe tbody tr th:only-of-type {\n",
              "        vertical-align: middle;\n",
              "    }\n",
              "\n",
              "    .dataframe tbody tr th {\n",
              "        vertical-align: top;\n",
              "    }\n",
              "\n",
              "    .dataframe thead th {\n",
              "        text-align: right;\n",
              "    }\n",
              "</style>\n",
              "<table border=\"1\" class=\"dataframe\">\n",
              "  <thead>\n",
              "    <tr style=\"text-align: right;\">\n",
              "      <th></th>\n",
              "      <th>id</th>\n",
              "      <th>article</th>\n",
              "      <th>highlights</th>\n",
              "    </tr>\n",
              "  </thead>\n",
              "  <tbody>\n",
              "    <tr>\n",
              "      <th>0</th>\n",
              "      <td>92c514c913c0bdfe25341af9fd72b29db544099b</td>\n",
              "      <td>Ever noticed how plane seats appear to be gett...</td>\n",
              "      <td>Experts question if  packed out planes are put...</td>\n",
              "    </tr>\n",
              "    <tr>\n",
              "      <th>1</th>\n",
              "      <td>2003841c7dc0e7c5b1a248f9cd536d727f27a45a</td>\n",
              "      <td>A drunk teenage boy had to be rescued by secur...</td>\n",
              "      <td>Drunk teenage boy climbed into lion enclosure ...</td>\n",
              "    </tr>\n",
              "    <tr>\n",
              "      <th>2</th>\n",
              "      <td>91b7d2311527f5c2b63a65ca98d21d9c92485149</td>\n",
              "      <td>Dougie Freedman is on the verge of agreeing a ...</td>\n",
              "      <td>Nottingham Forest are close to extending Dougi...</td>\n",
              "    </tr>\n",
              "    <tr>\n",
              "      <th>3</th>\n",
              "      <td>caabf9cbdf96eb1410295a673e953d304391bfbb</td>\n",
              "      <td>Liverpool target Neto is also wanted by PSG an...</td>\n",
              "      <td>Fiorentina goalkeeper Neto has been linked wit...</td>\n",
              "    </tr>\n",
              "    <tr>\n",
              "      <th>4</th>\n",
              "      <td>3da746a7d9afcaa659088c8366ef6347fe6b53ea</td>\n",
              "      <td>Bruce Jenner will break his silence in a two-h...</td>\n",
              "      <td>Tell-all interview with the reality TV star, 6...</td>\n",
              "    </tr>\n",
              "  </tbody>\n",
              "</table>\n",
              "</div>"
            ],
            "text/plain": [
              "                                         id  \\\n",
              "0  92c514c913c0bdfe25341af9fd72b29db544099b   \n",
              "1  2003841c7dc0e7c5b1a248f9cd536d727f27a45a   \n",
              "2  91b7d2311527f5c2b63a65ca98d21d9c92485149   \n",
              "3  caabf9cbdf96eb1410295a673e953d304391bfbb   \n",
              "4  3da746a7d9afcaa659088c8366ef6347fe6b53ea   \n",
              "\n",
              "                                             article  \\\n",
              "0  Ever noticed how plane seats appear to be gett...   \n",
              "1  A drunk teenage boy had to be rescued by secur...   \n",
              "2  Dougie Freedman is on the verge of agreeing a ...   \n",
              "3  Liverpool target Neto is also wanted by PSG an...   \n",
              "4  Bruce Jenner will break his silence in a two-h...   \n",
              "\n",
              "                                          highlights  \n",
              "0  Experts question if  packed out planes are put...  \n",
              "1  Drunk teenage boy climbed into lion enclosure ...  \n",
              "2  Nottingham Forest are close to extending Dougi...  \n",
              "3  Fiorentina goalkeeper Neto has been linked wit...  \n",
              "4  Tell-all interview with the reality TV star, 6...  "
            ]
          },
          "execution_count": 2,
          "metadata": {},
          "output_type": "execute_result"
        }
      ],
      "source": [
        "# read the CNN dailymail dataset in pandas dataframe\n",
        "df = pd.read_csv('data/cnn_dailymail_data.csv') #path to CNN daily mail dataset\n",
        "df.head()"
      ]
    },
    {
      "cell_type": "markdown",
      "id": "fc09a779-e3cd-485f-ae3a-297491d993b0",
      "metadata": {
        "nteract": {
          "transient": {
            "deleting": false
          }
        }
      },
      "source": [
        "## Section 1: Leveraging Cognitivie search to extract relevant article based on the query "
      ]
    },
    {
      "attachments": {},
      "cell_type": "markdown",
      "id": "4ceb9fb6-ea7a-4679-b43e-4abcc6b2a2cf",
      "metadata": {
        "nteract": {
          "transient": {
            "deleting": false
          }
        }
      },
      "source": [
        "## Creating Cognitive Seach Index using CNN Dailymail dataset\n",
        "<img src=\"../Demo/images/AzureCogSearchIndex.png\" alt=\"Alternative text\" />"
      ]
    },
    {
      "cell_type": "code",
      "execution_count": 22,
      "id": "7ed0f694-b8c2-408f-90a3-3a763cfbd90e",
      "metadata": {
        "gather": {
          "logged": 1675138709934
        },
        "jupyter": {
          "outputs_hidden": false,
          "source_hidden": false
        },
        "nteract": {
          "transient": {
            "deleting": false
          }
        }
      },
      "outputs": [],
      "source": [
        "# Create an SDK client\n",
        "search_client = SearchClient(endpoint=os.getenv(\"AZURE_COGNITIVE_SEARCH_ENDPOINT\"),\n",
        "                      index_name=os.getenv('AZURE_COGNITIVE_SEARCH_INDEX_NAME'),\n",
        "                      api_version=os.getenv('AZURE_COGNITIVE_SEARCH_API_VERSION'),\n",
        "                      credential=AzureKeyCredential(os.getenv(\"AZURE_COGNITIVE_SEARCH_KEY\")))"
      ]
    },
    {
      "cell_type": "code",
      "execution_count": 25,
      "id": "32689db7-4337-42d9-b8f9-4cbd9d98a850",
      "metadata": {
        "gather": {
          "logged": 1675138710195
        },
        "jupyter": {
          "outputs_hidden": false,
          "source_hidden": false
        },
        "nteract": {
          "transient": {
            "deleting": false
          }
        }
      },
      "outputs": [],
      "source": [
        "#Extracting relevant article based on the query. eg: Clinton Democratic Nomination\n",
        "results = search_client.search(search_text=\"Clinton Democratic nomination\", include_total_count=True)\n",
        "document = next(results)['article']"
      ]
    },
    {
      "cell_type": "code",
      "execution_count": 26,
      "id": "3c9681f2-2448-4e6d-8174-5fb5ff61d5db",
      "metadata": {
        "gather": {
          "logged": 1675139624461
        },
        "jupyter": {
          "outputs_hidden": false,
          "source_hidden": false
        },
        "nteract": {
          "transient": {
            "deleting": false
          }
        }
      },
      "outputs": [
        {
          "data": {
            "text/plain": [
              "'Apple founder Steve Jobs\\' widow Laurene has told of her admiration for Democratic White House front-runner Hillary Clinton. Ms Jobs, 51, called former First Lady Hillary a \\'revolutionary\\' woman, and added that it\\'s not just because she\\'s a woman - but \\'the type of woman she is\\'. Speaking to Time 100, Ms Jobs said: \\'Hillary Clinton is not familiar. She is revolutionary. Not radical, but revolutionary: The distinction is crucial. She is one of America’s greatest modern creations. Laurene Jobs, pictured, widow of Apple\\'s Steve, has strongly backed Hillary Clinton for president . Laurene Jobs said that Hillary Clinton, right, has \\'judgment and wisdom\\' based on her public service . \\'Her decades in our public life must not blind us to the fact that she represents new realities and possibilities. Indeed, those same decades have conferred upon her what newness usually lacks: judgment, and even wisdom. \\'It matters, of course, that Hillary is a woman. But what matters more is what kind of woman she is.\\' Mrs Clinton announced her intention to seek the Democratic nomination on Sunday - and set upon the campaign trail with a trip to meet \\'ordinary\\' voters in Iowa. But she was blasted for her \\'staged\\' visit on Tuesday morning to a coffee shop in LeClaire, Iowa. Austin Bird, one of the men pictured sitting at the table with Mrs Clinton, claimed the whole event was orchestrated \\'from beginning to end\\'. STAGED: Clinton sat to talk with three young Iowans at a coffee shop on Tuesday – all of whom were driven to the event by her Iowa campaign\\'s political director . NOT SO ORDINARY: Austin Bird is a Democratic Party insider who chauffeured Vice President Joe Biden around Davenport, Iowa in October during a pre-election campaign trip . Bird told Daily Mail Online that campaign staffer Troy Price called and asked him and two other young people to meet him Tuesday morning at a restaurant in Davenport, a nearby city. Price then drove them to the coffee house to meet Clinton after vetting them for about a half-hour. The three got the lion\\'s share of Mrs. Clinton\\'s time and participated in what breathless news reports described as a \\'roundtable\\'– the first of many in her brief Iowa campaign swing. Bird himself is a frequent participant in Iowa Democratic Party events. He interned with President Obama\\'s 2012 presidential re-election campaign, and was tapped to chauffeur Vice President Joe Biden in October 2014 when he visited Davenport. \\'What happened is, we were just asked to be there by Troy,\\' Bird said Wednesday in a phone interview. \\'We were asked to come to a meeting with Troy, the three of us, at the Village Inn.\\' The other two, he confirmed, were University of Iowa College Democrats president Carter Bell and Planned Parenthood of the Heartland employee Sara Sedlacek. \\'It was supposed to be a strategy meeting,\\' Bird recalled, \\'to get our thoughts about issues. But then all of a sudden he says, \"Hey, we have Secretary Clinton coming in, would you like to go meet her?\"\\' \\'And then we got in a car – Troy\\'s car – and we went up to the coffee house, and we sat at a table and then Hillary just came up and talked with us.\\' Bird said \\'we all were called.\\' \\'I mean, Troy asked us all to do – to go to a meeting with him. And we didn\\'t really know what it was about. I mean, he did. He knew.\\' It\\'s unclear how many Iowans featured in photographs with Clinton that rocketed around the country on Tuesday were planted. \\'The mayor of LeClaire was there, and his wife was there,\\' Bird said, recalling the scene at the coffee shop. Price was executive director of the Iowa Democratic Party until a month ago. Clinton\\'s team tapped him last week to be its political director in Iowa. He did not respond to a request for comment. Bird is a government and community relations coordinator at Genesis Health System in Davenport, Iowa, according to his LinkedIn profile. A coworker at Genesis said Wednesday that Bird is \\'basically a lobbyist in training. That\\'s what he wants to do.\\' Bird disagreed, saying his role was \\'more public relations.\\' He\\'s also an outspoken progressive whose Facebook wall shows he ordered a \\'Hillary For President\\' bumper sticker\\xa022 months ago. \\'Is it 2016 yet?\\' he wrote in May 2013. Clinton\\'s nascent campaign has carefully coordinated her image as a spontaneous, handshaking populist in her first days as a candidate, posing with Pennsylvanians at a gas station and venturing into an Ohio Chipotle restaurant for lunch. When no one recognized the former first lady – she was wearing sunglasses – the campaign leaked information to The New York Times so its reporters could get security-camera footage to prove she had tried to mingle with voters. Scripting supposedly off-the-cuff appearances is common in presidential politics but could hurt Clinton especially hard since her gonzo road-trip journey to America\\'s broad midwest is designed to counter her image as cold, calculating and politically venomous. And planting party insiders in place of typical Iowans won\\'t go over well in the Hawkeye State, where pressing the flesh and collecting caucus votes is a quadrennial full-contact sport. ASTROTURF: Setting up faux events for news cameras is nothing new in politics, but Iowans take presidential contests seriously and could punish Clinton for the deception . THE FIXER: Bird said Troy Prince (left, pictured with VP Joe Biden), who was executive director of the Iowa Democratic Party until he left last month to help Clinton\\'s statewide political effort, recruited him and others to attend the \\'spontaneous\\' coffee meeting . Clinton\\'s campaign has already taken heat for depicting at least three people in her campaign launch video as \\'everyday\\' Americans who were actually partisans with political connections. One was even a former campaign manager for Wendy Davis, the Texas Democrat who mounted a failed bid for Texas governor last year. In LeClaire on Tuesday,\\xa0Bloomberg and other outlets referred to Bird as a \\'student\\' at St. Ambrose University, not as a hospital government-affairs staffer with Democratic party street-cred. He does study at St. Ambrose – part-time. But Bird\\'s ties to the party are deep enough that his Facebook wall includes a photo of him standing in front of Joe Biden\\'s limousine in Davenport. \\'I was driving the Vice President when he was in town in October,\\' Bird noted in a Facebook comment. Biden was not there on official government business, but for a campaign stop in support of Democrat Bruce Braley. \\'The Vice President will attend a grassroots event for Braley for Iowa with Representative David Loebsack,\\' according to White House press guidance for his October 27, 2014 schedule.'"
            ]
          },
          "execution_count": 26,
          "metadata": {},
          "output_type": "execute_result"
        }
      ],
      "source": [
        "document"
      ]
    },
    {
      "cell_type": "code",
      "execution_count": 27,
      "id": "02375dcd-514e-4203-951e-729b3de07570",
      "metadata": {
        "gather": {
          "logged": 1675139635796
        },
        "jupyter": {
          "outputs_hidden": false,
          "source_hidden": false
        },
        "nteract": {
          "transient": {
            "deleting": false
          }
        }
      },
      "outputs": [
        {
          "data": {
            "text/plain": [
              "6675"
            ]
          },
          "execution_count": 27,
          "metadata": {},
          "output_type": "execute_result"
        }
      ],
      "source": [
        "#length of article extracted from Azure Cognitive search\n",
        "len(document) "
      ]
    },
    {
      "cell_type": "markdown",
      "id": "30b4b060-1dca-468c-a1f5-ac1b9e5d4878",
      "metadata": {
        "nteract": {
          "transient": {
            "deleting": false
          }
        }
      },
      "source": [
        "## Section 2: Document Zone Search\n",
        "Document Zone: Azure OpenAI Embedding API\n",
        "Now that we narrowed on a single document from our knowledge base using Azure Cognitive Search- we can dive deeper into the single document to refine our initial query to a more specific section or \"zone\" of the article.\n",
        "\n",
        "To do this, we will utilize the Azure Open AI Embeddings API.\n",
        "\n",
        "## Embeddings Overview\n",
        "An embedding is a special format of data representation that can be easily utilized by machine learning models and algorithms. The embedding is an information dense representation of the semantic meaning of a piece of text. Each embedding is a vector of floating-point numbers, such that the distance between two embeddings in the vector space is correlated with semantic similarity between two inputs in the original format. For example, if two texts are similar, then their vector representations should also be similar.\n",
        "\n",
        "Different Azure OpenAI embedding models are specifically created to be good at a particular task. Similarity embeddings are good at capturing semantic similarity between two or more pieces of text. Text search embeddings help measure long documents are relevant to a short query. Code search embeddings are useful for embedding code snippets and embedding nature language search queries.\n",
        "\n",
        "Embeddings make it easier to do machine learning on large inputs representing words by capturing the semantic similarities in a vector space. Therefore, we can use embeddings to if two text chunks are semantically related or similar, and inherently provide a score to assess similarity.\n",
        "\n",
        "## Cosine Similarity\n",
        "A previously used approach to match similar documents was based on counting maximum number of common words between documents. This is flawed since as the document size increases, the overlap of common words increases even if the topics differ. Therefore cosine similarity is a better approach.\n",
        "\n",
        "Mathematically, cosine similarity measures the cosine of the angle between two vectors projected in a multi-dimensional space. This is beneficial because if two documents are far apart by Euclidean distance because of size, they could still have a smaller angle between them and therefore higher cosine similarity.\n",
        "\n",
        "The Azure OpenAI embeddings rely on cosine similarity to compute similarity between documents and a query."
      ]
    },
    {
      "cell_type": "markdown",
      "id": "1cf78f21-368a-4314-ab59-f5be527e4b08",
      "metadata": {
        "nteract": {
          "transient": {
            "deleting": false
          }
        }
      },
      "source": [
        "## Setting up Azure OpenAI service and using deployed models"
      ]
    },
    {
      "cell_type": "code",
      "execution_count": 29,
      "id": "c1cb38c6",
      "metadata": {
        "gather": {
          "logged": 1675138710894
        }
      },
      "outputs": [],
      "source": [
        "openai.api_type = \"azure\"\n",
        "openai.api_version = \"2022-12-01\" #openai api version m\n",
        "\n",
        "API_KEY = os.getenv(\"OPENAI_API_KEY\")\n",
        "assert API_KEY, \"ERROR: Azure OpenAI Key is missing\"\n",
        "openai.api_key = API_KEY\n",
        "\n",
        "RESOURCE_ENDPOINT = os.getenv(\"OPENAI_API_BASE\",\"\").strip()\n",
        "assert RESOURCE_ENDPOINT, \"ERROR: Azure OpenAI Endpoint is missing\"\n",
        "assert \"openai.azure.com\" in RESOURCE_ENDPOINT.lower(), \"ERROR: Azure OpenAI Endpoint should be in the form: \\n\\n\\t<your unique endpoint identifier>.openai.azure.com\"\n",
        "openai.api_base = RESOURCE_ENDPOINT\n",
        "\n",
        "TEXT_SEARCH_DOC_EMBEDDING_ENGINE = os.getenv('DOCUMENT_MODEL_NAME') # Model deployment name - mentioned in the above screenshot \n",
        "TEXT_SEARCH_QUERY_EMBEDDING_ENGINE = os.getenv('QUERY_MODEL_NAME') # Model deployment name - mentioned in the above screenshot\n",
        "TEXT_DAVINCI = os.getenv('DEPLOYMENT_NAME') # Model deployment name - mentioned in the above screenshot"
      ]
    },
    {
      "cell_type": "code",
      "execution_count": 30,
      "id": "b043fbb4",
      "metadata": {
        "gather": {
          "logged": 1675138711079
        }
      },
      "outputs": [],
      "source": [
        "#Defining helper functions\n",
        "#Splits text after sentences ending in a period. Combines n sentences per chunk.\n",
        "def splitter(n, s):\n",
        "    pieces = s.split(\". \")\n",
        "    list_out = [\" \".join(pieces[i:i+n]) for i in range(0, len(pieces), n)]\n",
        "    return list_out\n",
        "\n",
        "# Perform light data cleaning (removing redudant whitespace and cleaning up punctuation)\n",
        "def normalize_text(s, sep_token = \" \\n \"):\n",
        "    s = re.sub(r'\\s+',  ' ', s).strip()\n",
        "    s = re.sub(r\". ,\",\"\",s)\n",
        "    # remove all instances of multiple spaces\n",
        "    s = s.replace(\"..\",\".\")\n",
        "    s = s.replace(\". .\",\".\")\n",
        "    s = s.replace(\"\\n\", \"\")\n",
        "    s = s.strip()\n",
        "    \n",
        "    return s"
      ]
    },
    {
      "cell_type": "code",
      "execution_count": 31,
      "id": "56354758-427f-4af9-94b9-96a25946e9a5",
      "metadata": {
        "gather": {
          "logged": 1675138711316
        },
        "jupyter": {
          "outputs_hidden": false,
          "source_hidden": false
        },
        "nteract": {
          "transient": {
            "deleting": false
          }
        }
      },
      "outputs": [],
      "source": [
        "document_chunks = splitter(10, normalize_text(document)) #splitting extracted document into chunks of 10 sentences"
      ]
    },
    {
      "cell_type": "code",
      "execution_count": 32,
      "id": "e3fac902-3761-48f3-b553-557aba1e09f4",
      "metadata": {
        "gather": {
          "logged": 1675139752286
        },
        "jupyter": {
          "outputs_hidden": false,
          "source_hidden": false
        },
        "nteract": {
          "transient": {
            "deleting": false
          }
        }
      },
      "outputs": [
        {
          "data": {
            "text/plain": [
              "[\"Apple founder Steve Jobs' widow Laurene has told of her admiration for Democratic White House front-runner Hillary Clinton Ms Jobs, 51, called former First Lady Hillary a 'revolutionary' woman, and added that it's not just because she's a woman - but 'the type of woman she is' Speaking to Time 100, Ms Jobs said: 'Hillary Clinton is not familiar She is revolutionary Not radical, but revolutionary: The distinction is crucial She is one of America’s greatest modern creations Laurene Jobs, pictured, widow of Apple's Steve, has strongly backed Hillary Clinton for president  Laurene Jobs said that Hillary Clinton, right, has 'judgment and wisdom' based on her public service  'Her decades in our public life must not blind us to the fact that she represents new realities and possibilities Indeed, those same decades have conferred upon her what newness usually lacks: judgment, and even wisdom\",\n",
              " \"'It matters, of course, that Hillary is a woman But what matters more is what kind of woman she is.' Mrs Clinton announced her intention to seek the Democratic nomination on Sunday - and set upon the campaign trail with a trip to meet 'ordinary' voters in Iowa But she was blasted for her 'staged' visit on Tuesday morning to a coffee shop in LeClaire, Iowa Austin Bird, one of the men pictured sitting at the table with Mrs Clinton, claimed the whole event was orchestrated 'from beginning to end' STAGED: Clinton sat to talk with three young Iowans at a coffee shop on Tuesday – all of whom were driven to the event by her Iowa campaign's political director  NOT SO ORDINARY: Austin Bird is a Democratic Party insider who chauffeured Vice President Joe Biden around Davenport, Iowa in October during a pre-election campaign trip  Bird told Daily Mail Online that campaign staffer Troy Price called and asked him and two other young people to meet him Tuesday morning at a restaurant in Davenport, a nearby city Price then drove them to the coffee house to meet Clinton after vetting them for about a half-hour The three got the lion's share of Mrs Clinton's time and participated in what breathless news reports described as a 'roundtable'– the first of many in her brief Iowa campaign swing\",\n",
              " 'Bird himself is a frequent participant in Iowa Democratic Party events He interned with President Obama\\'s 2012 presidential re-election campaign, and was tapped to chauffeur Vice President Joe Biden in October 2014 when he visited Davenport \\'What happened is, we were just asked to be there by Troy,\\' Bird said Wednesday in a phone interview \\'We were asked to come to a meeting with Troy, the three of us, at the Village Inn.\\' The other two, he confirmed, were University of Iowa College Democrats president Carter Bell and Planned Parenthood of the Heartland employee Sara Sedlacek \\'It was supposed to be a strategy meeting,\\' Bird recalled, \\'to get our thoughts about issues But then all of a sudden he says, \"Hey, we have Secretary Clinton coming in, would you like to go meet her?\"\\' \\'And then we got in a car – Troy\\'s car – and we went up to the coffee house, and we sat at a table and then Hillary just came up and talked with us.\\' Bird said \\'we all were called.\\' \\'I mean, Troy asked us all to do – to go to a meeting with him And we didn\\'t really know what it was about I mean, he did He knew.\\' It\\'s unclear how many Iowans featured in photographs with Clinton that rocketed around the country on Tuesday were planted \\'The mayor of LeClaire was there, and his wife was there,\\' Bird said, recalling the scene at the coffee shop',\n",
              " \"Price was executive director of the Iowa Democratic Party until a month ago Clinton's team tapped him last week to be its political director in Iowa He did not respond to a request for comment Bird is a government and community relations coordinator at Genesis Health System in Davenport, Iowa, according to his LinkedIn profile A coworker at Genesis said Wednesday that Bird is 'basically a lobbyist in training That's what he wants to do.' Bird disagreed, saying his role was 'more public relations.' He's also an outspoken progressive whose Facebook wall shows he ordered a 'Hillary For President' bumper sticker 22 months ago 'Is it 2016 yet?' he wrote in May 2013 Clinton's nascent campaign has carefully coordinated her image as a spontaneous, handshaking populist in her first days as a candidate, posing with Pennsylvanians at a gas station and venturing into an Ohio Chipotle restaurant for lunch When no one recognized the former first lady – she was wearing sunglasses – the campaign leaked information to The New York Times so its reporters could get security-camera footage to prove she had tried to mingle with voters Scripting supposedly off-the-cuff appearances is common in presidential politics but could hurt Clinton especially hard since her gonzo road-trip journey to America's broad midwest is designed to counter her image as cold, calculating and politically venomous\",\n",
              " \"And planting party insiders in place of typical Iowans won't go over well in the Hawkeye State, where pressing the flesh and collecting caucus votes is a quadrennial full-contact sport ASTROTURF: Setting up faux events for news cameras is nothing new in politics, but Iowans take presidential contests seriously and could punish Clinton for the deception  THE FIXER: Bird said Troy Prince (left, pictured with VP Joe Biden), who was executive director of the Iowa Democratic Party until he left last month to help Clinton's statewide political effort, recruited him and others to attend the 'spontaneous' coffee meeting  Clinton's campaign has already taken heat for depicting at least three people in her campaign launch video as 'everyday' Americans who were actually partisans with political connections One was even a former campaign manager for Wendy Davis, the Texas Democrat who mounted a failed bid for Texas governor last year In LeClaire on Tuesday, Bloomberg and other outlets referred to Bird as a 'student' at St Ambrose University, not as a hospital government-affairs staffer with Democratic party street-cred He does study at St Ambrose – part-time But Bird's ties to the party are deep enough that his Facebook wall includes a photo of him standing in front of Joe Biden's limousine in Davenport\",\n",
              " \"'I was driving the Vice President when he was in town in October,' Bird noted in a Facebook comment Biden was not there on official government business, but for a campaign stop in support of Democrat Bruce Braley 'The Vice President will attend a grassroots event for Braley for Iowa with Representative David Loebsack,' according to White House press guidance for his October 27, 2014 schedule.\"]"
            ]
          },
          "execution_count": 32,
          "metadata": {},
          "output_type": "execute_result"
        }
      ],
      "source": [
        "document_chunks"
      ]
    },
    {
      "cell_type": "code",
      "execution_count": 33,
      "id": "39b3c83f-deca-493b-aa41-12b89f24feff",
      "metadata": {
        "gather": {
          "logged": 1675138711716
        },
        "jupyter": {
          "outputs_hidden": false,
          "source_hidden": false
        },
        "nteract": {
          "transient": {
            "deleting": false
          }
        }
      },
      "outputs": [],
      "source": [
        "embed_df = pd.DataFrame(document_chunks, columns = [\"chunks\"]) #datframe with document chunks\n"
      ]
    },
    {
      "cell_type": "code",
      "execution_count": 34,
      "id": "de635ba5-7cf1-4d4f-8598-73619fc9c7ef",
      "metadata": {
        "gather": {
          "logged": 1675138711984
        },
        "jupyter": {
          "outputs_hidden": false,
          "source_hidden": false
        },
        "nteract": {
          "transient": {
            "deleting": false
          }
        }
      },
      "outputs": [],
      "source": [
        "#Create an embedding vector for each chunk that will capture the semantic meaning and overall topic of that chunk\n",
        "embed_df['curie_search'] = embed_df[\"chunks\"].apply(lambda x : get_embedding(x, engine = TEXT_SEARCH_DOC_EMBEDDING_ENGINE))"
      ]
    },
    {
      "cell_type": "code",
      "execution_count": 35,
      "id": "0033b178-c09d-4a24-89f7-6c223efc5e71",
      "metadata": {
        "gather": {
          "logged": 1675139761838
        },
        "jupyter": {
          "outputs_hidden": false,
          "source_hidden": false
        },
        "nteract": {
          "transient": {
            "deleting": false
          }
        }
      },
      "outputs": [
        {
          "data": {
            "text/html": [
              "<div>\n",
              "<style scoped>\n",
              "    .dataframe tbody tr th:only-of-type {\n",
              "        vertical-align: middle;\n",
              "    }\n",
              "\n",
              "    .dataframe tbody tr th {\n",
              "        vertical-align: top;\n",
              "    }\n",
              "\n",
              "    .dataframe thead th {\n",
              "        text-align: right;\n",
              "    }\n",
              "</style>\n",
              "<table border=\"1\" class=\"dataframe\">\n",
              "  <thead>\n",
              "    <tr style=\"text-align: right;\">\n",
              "      <th></th>\n",
              "      <th>chunks</th>\n",
              "      <th>curie_search</th>\n",
              "    </tr>\n",
              "  </thead>\n",
              "  <tbody>\n",
              "    <tr>\n",
              "      <th>0</th>\n",
              "      <td>Apple founder Steve Jobs' widow Laurene has to...</td>\n",
              "      <td>[-0.021213309839367867, -0.01994013786315918, ...</td>\n",
              "    </tr>\n",
              "    <tr>\n",
              "      <th>1</th>\n",
              "      <td>'It matters, of course, that Hillary is a woma...</td>\n",
              "      <td>[-0.005676722154021263, 0.0011703555937856436,...</td>\n",
              "    </tr>\n",
              "    <tr>\n",
              "      <th>2</th>\n",
              "      <td>Bird himself is a frequent participant in Iowa...</td>\n",
              "      <td>[-0.01187131181359291, -0.019926846027374268, ...</td>\n",
              "    </tr>\n",
              "    <tr>\n",
              "      <th>3</th>\n",
              "      <td>Price was executive director of the Iowa Democ...</td>\n",
              "      <td>[-0.012318028137087822, -0.017145490273833275,...</td>\n",
              "    </tr>\n",
              "    <tr>\n",
              "      <th>4</th>\n",
              "      <td>And planting party insiders in place of typica...</td>\n",
              "      <td>[-0.0030065353494137526, -0.004831848666071892...</td>\n",
              "    </tr>\n",
              "    <tr>\n",
              "      <th>5</th>\n",
              "      <td>'I was driving the Vice President when he was ...</td>\n",
              "      <td>[-0.0023353341966867447, -0.014266935177147388...</td>\n",
              "    </tr>\n",
              "  </tbody>\n",
              "</table>\n",
              "</div>"
            ],
            "text/plain": [
              "                                              chunks  \\\n",
              "0  Apple founder Steve Jobs' widow Laurene has to...   \n",
              "1  'It matters, of course, that Hillary is a woma...   \n",
              "2  Bird himself is a frequent participant in Iowa...   \n",
              "3  Price was executive director of the Iowa Democ...   \n",
              "4  And planting party insiders in place of typica...   \n",
              "5  'I was driving the Vice President when he was ...   \n",
              "\n",
              "                                        curie_search  \n",
              "0  [-0.021213309839367867, -0.01994013786315918, ...  \n",
              "1  [-0.005676722154021263, 0.0011703555937856436,...  \n",
              "2  [-0.01187131181359291, -0.019926846027374268, ...  \n",
              "3  [-0.012318028137087822, -0.017145490273833275,...  \n",
              "4  [-0.0030065353494137526, -0.004831848666071892...  \n",
              "5  [-0.0023353341966867447, -0.014266935177147388...  "
            ]
          },
          "execution_count": 35,
          "metadata": {},
          "output_type": "execute_result"
        }
      ],
      "source": [
        "embed_df #dataframe with document chunks and their embeddings created using Curie embeddings model "
      ]
    },
    {
      "cell_type": "code",
      "execution_count": 36,
      "id": "7cc7adb8-93dd-4dfd-995a-8df893a98d99",
      "metadata": {
        "gather": {
          "logged": 1675138712417
        },
        "jupyter": {
          "outputs_hidden": false,
          "source_hidden": false
        },
        "nteract": {
          "transient": {
            "deleting": false
          }
        }
      },
      "outputs": [],
      "source": [
        "# search through the document for a text segment most similar to the query\n",
        "# display top two most similar chunks based on cosine similarity\n",
        "def search_docs(df, user_query, top_n=3):\n",
        "    embedding = get_embedding(\n",
        "        user_query,\n",
        "        engine=TEXT_SEARCH_QUERY_EMBEDDING_ENGINE\n",
        "    )\n",
        "    df[\"similarities\"] = df.curie_search.apply(lambda x: cosine_similarity(x, embedding))\n",
        "\n",
        "    res = (\n",
        "        df.sort_values(\"similarities\", ascending=False)\n",
        "        .reset_index(drop=True)\n",
        "        .head(top_n)\n",
        "    )\n",
        "    return res"
      ]
    },
    {
      "cell_type": "code",
      "execution_count": 37,
      "id": "b8511f3a-198f-4e8f-8a5d-cb74456826fa",
      "metadata": {
        "gather": {
          "logged": 1675138712650
        },
        "jupyter": {
          "outputs_hidden": false,
          "source_hidden": false
        },
        "nteract": {
          "transient": {
            "deleting": false
          }
        }
      },
      "outputs": [],
      "source": [
        "document_specific_query = \"trouble so far in clinton campaign\" \n",
        "res = search_docs(embed_df, document_specific_query, top_n=2) #finding top 2 results based on similarity "
      ]
    },
    {
      "cell_type": "markdown",
      "id": "eabac33e-5a98-49f0-8fd6-2750bcf79bb1",
      "metadata": {
        "nteract": {
          "transient": {
            "deleting": false
          }
        }
      },
      "source": [
        "## Section 3: Summarizer\n",
        "\n",
        "This section will cover the end-to-end flow of using the GPT-3 models for summarization tasks. \n",
        "The model used by the Azure OpenAI service is a generative completion call which uses natural language instructions to identify the task being asked and skill required – aka Prompt Engineering. Using this approach, the first part of the prompt includes natural language instructions and/or examples of the specific task desired. The model then completes the task by predicting the most probable next text. This technique is known as \"in-context\" learning. \n",
        "\n",
        "There are three main approaches for in-context learning: Zero-shot, Few-shot and Fine tuning. These approaches vary based on the amount of task-specific data that is given to the model: \n",
        "\n",
        "**Zero-shot**: In this case, no examples are provided to the model and only the task request is provided. \n",
        "\n",
        "**Few-shot**: In this case, a user includes several examples in the call prompt that demonstrate the expected answer format and content. \n",
        "\n",
        "**Fine-Tuning**: Fine Tuning lets you tailor models to your personal datasets. This customization step will let you get more out of the service by providing: \n",
        "-\tWith lots of data (at least 500 and above) traditional optimization techniques are used with Back Propagation to re-adjust the weights of the model – this enables higher quality results than mere zero-shot or few-shot. \n",
        "-\tA customized model improves the few-shot learning approach by training the model weights on your specific prompts and structure. This lets you achieve better results on a wider number of tasks without needing to provide examples in the prompt. The result is less text sent and fewer tokens \n"
      ]
    },
    {
      "cell_type": "code",
      "execution_count": 38,
      "id": "6ec85c16-daec-4eb3-aa33-bed7c20774b6",
      "metadata": {
        "jupyter": {
          "outputs_hidden": false,
          "source_hidden": false
        },
        "nteract": {
          "transient": {
            "deleting": false
          }
        }
      },
      "outputs": [
        {
          "name": "stdout",
          "output_type": "stream",
          "text": [
            "Hillary Clinton's campaign has been criticized for staging a \"roundtable\" event in Iowa, where she was accompanied by three young people who were driven to the event by her Iowa campaign's political director. It has also been revealed that one of the people present was a Democratic Party insider with connections to Vice President Joe Biden. This has raised questions about whether Clinton is attempting to deceive Iowans, who take presidential contests seriously and could punish her for the deception.\n"
          ]
        }
      ],
      "source": [
        "'''Designing a prompt that will show and tell GPT-3 how to proceed. \n",
        "+ Providing an instruction to summarize the text about the general topic (prefix)\n",
        "+ Providing quality data for the chunks to summarize and specifically mentioning they are the text provided (context + context primer)\n",
        "+ Providing a space for GPT-3 to fill in the summary to follow the format (suffix)\n",
        "'''\n",
        "\n",
        "# result_1 corresponding to the top chunk from Section 2. result_2 corresponding to the second to top chunk from section 2. \n",
        "# change index for desired chunk\n",
        "result_1 = res.chunks[0]\n",
        "result_2 = res.chunks[1]\n",
        "prompt_i = 'Summarize the content about the Clinton campaign given the text provided.\\n\\Text:\\n'+\" \".join([normalize_text(result_1)])+ '\\n\\nText:\\n'+ \" \".join([normalize_text(result_2)])+'\\n\\nSummary:\\n'\n",
        "\n",
        "# Using a low temperature to limit the creativity in the response. \n",
        "response = openai.Completion.create(\n",
        "        engine= TEXT_DAVINCI,\n",
        "        prompt = prompt_i,\n",
        "        temperature = 0.0,\n",
        "        max_tokens = 500,\n",
        "        top_p = 1.0,\n",
        "        frequency_penalty=0.5,\n",
        "        presence_penalty = 0.5,\n",
        "        best_of = 1\n",
        "    )\n",
        "\n",
        "print(response.choices[0].text)"
      ]
    },
    {
      "cell_type": "code",
      "execution_count": 40,
      "id": "1449c949-1a01-4f20-bebb-e7674ac6de43",
      "metadata": {
        "gather": {
          "logged": 1675138714150
        },
        "jupyter": {
          "outputs_hidden": false,
          "source_hidden": false
        },
        "nteract": {
          "transient": {
            "deleting": false
          }
        }
      },
      "outputs": [
        {
          "name": "stdout",
          "output_type": "stream",
          "text": [
            "Hillary Clinton's campaign has been criticized for staging a visit to a coffee shop in Iowa, where she was accompanied by three young people who were driven there by her Iowa campaign's political director. It is suggested that this could be seen as an attempt to deceive the public and Iowans, who take presidential contests seriously, may punish Clinton for it. One of the people with Clinton was Austin Bird, a Democratic Party insider who chauffeured Vice President Joe Biden around Davenport, Iowa in October during a pre-election campaign trip. The media referred to Bird as a 'student' at St Ambrose University but he is actually a hospital government-affairs staffer with Democratic party street-cred.\n"
          ]
        }
      ],
      "source": [
        "#testing some parameters with a differnt temperature\n",
        "response = openai.Completion.create(\n",
        "        engine= TEXT_DAVINCI,\n",
        "        prompt = prompt_i,\n",
        "        temperature = 0.2,\n",
        "        max_tokens = 500,\n",
        "        top_p = 1.0,\n",
        "        frequency_penalty=0.5,\n",
        "        presence_penalty = 0.5,\n",
        "        best_of = 1\n",
        "    )\n",
        "\n",
        "print(response.choices[0].text)"
      ]
    },
    {
      "cell_type": "code",
      "execution_count": 41,
      "id": "47147cfe-ad88-4c97-b6eb-0a9f82f0bd91",
      "metadata": {
        "gather": {
          "logged": 1675138715196
        },
        "jupyter": {
          "outputs_hidden": false,
          "source_hidden": false
        },
        "nteract": {
          "transient": {
            "deleting": false
          }
        }
      },
      "outputs": [
        {
          "name": "stdout",
          "output_type": "stream",
          "text": [
            "Hillary Clinton's campaign has come under scrutiny for a \"staged\" visit to a coffee shop in LeClaire, Iowa. It was revealed that the three people pictured sitting at the table with Mrs Clinton were driven to the event by her Iowa campaign's political director and were recruited by Troy Price, former executive director of the Iowa Democratic Party. Clinton has also been criticized for depicting several \"everyday\" Americans in her campaign launch video as actually being politically connected partisans. Additionally, Austin Bird, one of the people at the coffee shop, was referred to as a student despite having deep ties to the Democratic party. These events have raised concerns among Iowans about how seriously Clinton is taking their presidential contest.\n"
          ]
        }
      ],
      "source": [
        "#testing some parameters \n",
        "response = openai.Completion.create(\n",
        "        engine= TEXT_DAVINCI,\n",
        "        prompt = prompt_i,\n",
        "        temperature = 0.7,\n",
        "        max_tokens = 500,\n",
        "        top_p = 1.0,\n",
        "        frequency_penalty=0.5,\n",
        "        presence_penalty = 0.5,\n",
        "        best_of = 1\n",
        "    )\n",
        "\n",
        "print(response.choices[0].text)"
      ]
    },
    {
      "cell_type": "code",
      "execution_count": null,
      "id": "609f8afe",
      "metadata": {},
      "outputs": [],
      "source": []
    }
  ],
  "metadata": {
    "kernel_info": {
      "name": "python3"
    },
    "kernelspec": {
      "display_name": "azureml_py310_sdkv2",
      "language": "python",
      "name": "python3"
    },
    "language_info": {
      "codemirror_mode": {
        "name": "ipython",
        "version": 3
      },
      "file_extension": ".py",
      "mimetype": "text/x-python",
      "name": "python",
      "nbconvert_exporter": "python",
      "pygments_lexer": "ipython3",
      "version": "3.10.9"
    },
    "microsoft": {
      "host": {
        "AzureML": {
          "notebookHasBeenCompleted": true
        }
      }
    },
    "nteract": {
      "version": "nteract-front-end@1.0.0"
    },
    "vscode": {
      "interpreter": {
        "hash": "2139c70ac98f3202d028164a545621647e07f47fd6f5d8ac55cf952bf7c15ed1"
      }
    }
  },
  "nbformat": 4,
  "nbformat_minor": 5
}
