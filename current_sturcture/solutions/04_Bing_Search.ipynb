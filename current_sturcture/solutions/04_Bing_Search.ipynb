{
 "cells": [
  {
   "cell_type": "code",
   "execution_count": 1,
   "metadata": {},
   "outputs": [],
   "source": [
    "from langchain.llms import AzureOpenAI\n",
    "import os\n",
    "from dotenv import load_dotenv\n",
    "from langchain.agents import load_tools\n",
    "from langchain.agents import initialize_agent, Tool\n",
    "from langchain.utilities import BingSearchAPIWrapper\n",
    "load_dotenv()\n",
    "search = BingSearchAPIWrapper()\n",
    "# Next, let's load some tools to use. Note that the `llm-math` tool uses an LLM, so we need to pass that in.\n",
    "tools = [\n",
    "    Tool(\n",
    "        name=\"Intermediate Answer\",\n",
    "        func=search.run,\n",
    "        description=''\n",
    "    )\n",
    "]\n",
    "\n",
    "\n",
    "llm = AzureOpenAI(temperature=0, deployment_name=os.getenv('DEPLOYMENT_NAME')) \n"
   ]
  },
  {
   "cell_type": "code",
   "execution_count": 2,
   "metadata": {},
   "outputs": [
    {
     "name": "stdout",
     "output_type": "stream",
     "text": [
      "\n",
      "\n",
      "\u001b[1m> Entering new AgentExecutor chain...\u001b[0m\n",
      "\u001b[32;1m\u001b[1;3m Yes.\n",
      "Follow up: What is ChatGPT?\u001b[0m\n",
      "Intermediate answer: \u001b[36;1m\u001b[1;3m<b>ChatGPT</b> is a natural language processing tool driven by AI technology that allows you to have human-like conversations and much more with a chatbot. The language model can answer questions, and... <b>ChatGPT</b> is a sibling model to InstructGPT, which is trained to follow an instruction in a prompt and provide a detailed response. We are excited to introduce <b>ChatGPT</b> to get users’ feedback and learn about its strengths and weaknesses. During the research preview, usage of <b>ChatGPT</b> is free. Try it now at chat.openai.com. Samples <b>ChatGPT</b> is an AI chatbot that&#39;s built on a family of large language models (LLMs) that are collectively called GPT-3. These models can understand and generate human-like answers to text prompts,... <b>ChatGPT</b>, the general-purpose AI chatbot prototype that the internet is obsessed with right now, has taken the world by storm over the past few months. It’s quickly become the dominant example of... <b>ChatGPT</b> [a] is an artificial intelligence chatbot developed by OpenAI and launched in November 2022. It is built on top of OpenAI&#39;s GPT-3 family of large language models and has been fine-tuned (an approach to transfer learning) using both supervised and reinforcement learning techniques. <b>ChatGPT</b> is a chatbot AI developed by OpenAI that allows users to do a number of tasks. The user asks the chatbot a question and then it responds with what it thinks is the desired result. If you... <b>ChatGPT</b> is an AI model that uses deep learning to generate human-like text based on prompts from users like you. It works by predicting the next word in a given text, based on the patterns it has learned from a massive amount of data during its training process. RELATED What Is Machine Learning? The training process is where the “magic” happens.\u001b[0m\n",
      "\u001b[32;1m\u001b[1;3mFollow up: What are the training data sources used for ChatGPT?\u001b[0m\n",
      "Intermediate answer: \u001b[36;1m\u001b[1;3mThe Common Crawl is an open, and free-to-<b>use</b> dataset that contains petabytes of <b>data</b> collected from the web since 2008. <b>Training</b> for GPT-3, the base model of <b>ChatGPT</b> took a subset of that... The Common Crawl is an open, and free-to-<b>use</b> dataset that contains petabytes of <b>data</b> collected from the web since 2008. <b>Training</b> for GPT-3, the base model of <b>ChatGPT</b> took a subset of that... <b>ChatGPT</b>&#39;s <b>training</b> <b>data</b> includes man pages and information about internet phenomena and programming languages, such as bulletin board systems and the Python programming language. [20] In comparison to its predecessor, InstructGPT, <b>ChatGPT</b> attempts to reduce harmful and deceitful responses. [21] <b>ChatGPT</b> is a sibling model to InstructGPT, which is trained to follow an instruction in a prompt and provide a detailed response. We are excited to introduce <b>ChatGPT</b> to get users’ feedback and learn about its strengths and weaknesses. During the research preview, usage of <b>ChatGPT</b> is free. Try it now at chat.openai.com. Samples <b>ChatGPT</b> is fine-tuned from GPT-3.5, a language model trained to produce text. <b>ChatGPT</b> was optimized for dialogue by using Reinforcement Learning with Human Feedback (RLHF) – a method that uses human demonstrations and preference comparisons to guide the model toward desired behavior. Why does the AI seem so real and lifelike? How does <b>ChatGPT</b> work? <b>ChatGPT</b> uses reinforcement learning with human feedback (RLHF) to intelligently process its environment using human demonstrations and adapt to different situations with... <b>ChatGPT</b>’s dataset comprises textual <b>data</b> from 5 <b>sources</b>, each with a different proportional weighting. (<b>Source</b>: OpenAI .) 60% of <b>ChatGPT</b>’s dataset is based on a filtered version of what is known as ‘common crawl’ <b>data</b>, which consists of web page <b>data</b>, metadata extracts and text extracts from over 8 years of web crawling. The primary <b>source</b> of <b>data</b> <b>for ChatGPT</b> is the WebText dataset, which consists of approximately 8 million web pages collected from the internet. This dataset is publicly available and was created by OpenAI specifically for <b>training</b> language models. <b>Data</b> collection: a list of prompts is selected and a group of human labelers are asked to write down the expected output response. <b>For ChatGPT</b>, two different <b>sources</b> of prompts have been <b>used</b>: some have been prepared directly from the labelers or developers, some have been sampled from OpenAI’s API requests (i.e. from their GPT-3 customers).\u001b[0m\n",
      "\u001b[32;1m\u001b[1;3mSo the final answer is: The Common Crawl, WebText dataset, a list of prompts from labelers or developers, and OpenAI's API requests.\u001b[0m\n",
      "\n",
      "\u001b[1m> Finished chain.\u001b[0m\n",
      "The Common Crawl, WebText dataset, a list of prompts from labelers or developers, and OpenAI's API requests.\n"
     ]
    }
   ],
   "source": [
    "# Finally, let's initialize an agent with the tools, the language model, and the type of agent we want to use.\n",
    "agent = initialize_agent(tools, llm, agent=\"self-ask-with-search\", verbose=True)\n",
    "\n",
    "# Now let's test it out!\n",
    "result = agent.run(\"What are the training data sources used for ChatGPT?\")\n",
    "print(result)"
   ]
  },
  {
   "cell_type": "code",
   "execution_count": 3,
   "metadata": {},
   "outputs": [
    {
     "name": "stdout",
     "output_type": "stream",
     "text": [
      "\n",
      "\n",
      "\u001b[1m> Entering new AgentExecutor chain...\u001b[0m\n",
      "\u001b[32;1m\u001b[1;3m I need to find out what training data sources are used to train ChatGPT.\n",
      "Action: Bing Search\n",
      "Action Input: \"ChatGPT training data sources\"\u001b[0m\n",
      "Observation: \u001b[36;1m\u001b[1;3m<b>ChatGPT</b> (GPT-3) <b>Data</b> <b>Sources</b> The table shown below is from paper entitled: Language Models are Few-Shot Learners. It shows the datasets used to train GPT-3. The base model for <b>ChatGPT</b>. This... <b>ChatGPT</b> (GPT-3) <b>Data</b> <b>Sources</b> The table shown below is from paper entitled: Language Models are Few-Shot Learners. It shows the datasets used to train GPT-3. The base model for <b>ChatGPT</b>. This... <b>ChatGPT</b> [a] is an artificial intelligence chatbot developed by OpenAI and launched in November 2022. It is built on top of OpenAI&#39;s GPT-3 family of large language models and has been fine-tuned (an approach to transfer learning) using both supervised and reinforcement learning techniques. <b>ChatGPT</b> is fine-tuned from a model in the GPT-3.5 series, which finished <b>training</b> in early 2022. You can learn more about the 3.5 series here. <b>ChatGPT</b> and GPT-3.5 were trained on an Azure AI supercomputing infrastructure. Limitations <b>ChatGPT</b> sometimes writes plausible-sounding but incorrect or nonsensical answers. <b>ChatGPT</b> has been trained on a substantial amount of <b>data</b> prior to this research preview, and continues learning through the human knowledge users provide, making it able to give educated responses ... <b>ChatGPT</b> was trained on an enormous amount of textual <b>data</b>, which comprised text databases obtained from various online <b>sources</b>. The <b>training</b> set involved staggering massive <b>data</b>, and the... <b>ChatGPT</b> is an AI language model that was trained on a large body of text from a variety of <b>sources</b> (e.g., Wikipedia, books, news articles, scientific journals). FAQ About us Our editors Apply as editor Team Jobs Contact My account Orders Upload Account details Logout My account Overview Availability Information package <b>Data</b> collection: a list of prompts is selected and a group of human labelers are asked to write down the expected output response. For <b>ChatGPT</b>, two different <b>sources</b> of prompts have been used: some have been prepared directly from the labelers or developers, some have been sampled from OpenAI’s API requests (i.e. from their GPT-3 customers). <b>ChatGPT</b> Statistics At A Glance Chat GPT was launched on 30th November 2022. The new and improved embedding model of <b>ChatGPT</b> was launched on 15th December 2022. 13 million individual active users visited <b>ChatGPT</b> per day as of January 2023. <b>ChatGPT</b> crossed the 100 million users milestone in January 2023.\u001b[0m\n",
      "Thought:\u001b[32;1m\u001b[1;3m I now know the training data sources used to train ChatGPT and their origin.\n",
      "Final Answer: The training data sources used to train ChatGPT are text databases obtained from various online sources, such as Wikipedia, books, news articles, and scientific journals. The data was collected by asking a group of human labelers to write down the expected output response, and some of the prompts were sampled from OpenAI's API requests.\u001b[0m\n",
      "\n",
      "\u001b[1m> Finished chain.\u001b[0m\n",
      "The training data sources used to train ChatGPT are text databases obtained from various online sources, such as Wikipedia, books, news articles, and scientific journals. The data was collected by asking a group of human labelers to write down the expected output response, and some of the prompts were sampled from OpenAI's API requests.\n"
     ]
    }
   ],
   "source": [
    "# search = BingSearchAPIWrapper()\n",
    "# Next, let's load some tools to use. Note that the `llm-math` tool uses an LLM, so we need to pass that in.\n",
    "tools = load_tools([\"bing-search\", \"llm-math\"], llm=llm)\n",
    "# Finally, let's initialize an agent with the tools, the language model, and the type of agent we want to use.\n",
    "agent = initialize_agent(tools, llm, agent=\"zero-shot-react-description\", verbose=True)\n",
    "\n",
    "# Now let's test it out!\n",
    "result = agent(\"List all training data sources used to train language model ChatGPT? Also show the origin of the sources.\")\n",
    "print(result['output'])"
   ]
  },
  {
   "cell_type": "code",
   "execution_count": 4,
   "metadata": {},
   "outputs": [
    {
     "name": "stdout",
     "output_type": "stream",
     "text": [
      "\n",
      "\n",
      "\u001b[1m> Entering new AgentExecutor chain...\u001b[0m\n",
      "\u001b[32;1m\u001b[1;3m I need to compare the list prices of both cars.\n",
      "Action: Bing Search\n",
      "Action Input: \"BMW X1 2023 price\"\u001b[0m\n",
      "Observation: \u001b[36;1m\u001b[1;3mThe <b>X1</b> also includes new Video Augmented Reality, and safety technology like Active Blind Spot Detection, Lane Departure Warning, and Frontal Collision Warning with City Collision Mitigation. Statistics Summary MSRP: From $39,100 Dimensions: From 175.5&quot; L x 71.7&quot; W x 62.9&quot; H Horsepower: Up to 241 hp Engine &amp; Drivetrain <b>2023</b> <b>BMW</b> <b>X1</b> MSRP range: $38,600 Pricing Review Compare Features +30 great 8.1 / 10 <b>Edmunds</b> Rating The <b>BMW</b> <b>X1</b> is the most affordable crossover SUV in the brand&#39;s lineup but hardly seems... The <b>2023</b> <b>X1</b> has a base <b>price</b> of $38,600. That&#39;s slightly above average for the luxury subcompact SUV segment. Check out our U.S. News Best <b>Price</b> Program for great savings at your local... <b>2023</b> <b>BMW</b> <b>X1</b> xDrive28i Estimated <b>Price</b> $47,310 Estimated Savings $35 (0.1%) MSRP: $47,345 Las Vegas, NV Blue Bay Lagoon Metallic with Oyster W/Stitching Interior Premium Package, Wheels: 20&quot; X 8.0&quot; Multi Spoke Alloy, Blue Bay Lagoon Metallic, Xline Design, Aluminum Mesh Effect Trim <b>2023</b> <b>BMW</b> <b>X1</b> xDrive28i Estimated <b>Price</b> <b>2023</b> <b>BMW</b> <b>X1</b> <b>Prices</b>, Deals and Lease Options. <b>Price</b> Range: $40,095 - $40,095. On Sale Now: <b>2023</b> <b>X1</b>. <b>BMW</b> <b>X1</b> Lease Deals Near You . <b>2023</b> <b>BMW</b> <b>X1</b>. xDrive28i 4dr All-Wheel Drive Sports Activity Vehicle. $555 / mo ... <b>2023</b> <b>BMW</b> <b>X1</b> Orderable With Limited Availability; 2022s Sold Out. <b>2023</b> <b>BMW</b> <b>X1</b> xDrive28i Vehicle Type: front-engine, all-wheel-drive, 5-passenger, 4-door wagon <b>PRICE</b> Base/As Tested: $39,595/$50,795 ENGINE turbocharged and intercooled DOHC 16-valve... 34 cars for sale found, starting at $17,995. Average <b>price</b> for Black <b>2023</b> <b>BMW</b> <b>X1</b>: $30,582. 12 deals found. Average savings of $2,792. Save up to $5,012 below estimated market <b>price</b>. The totally redesigned <b>BMW</b> <b>X1</b> is our highest-rated subcompact luxury SUV of <b>2023</b> and a Kelley Blue Book Best Buy Award winner. Pricing starts at $38,600. For an authentic German luxury SUV that ...\u001b[0m\n",
      "Thought:\u001b[32;1m\u001b[1;3m I need to compare the list prices of Tesla Model 3 2023.\n",
      "Action: Bing Search\n",
      "Action Input: \"Tesla Model 3 2023 price\"\u001b[0m\n",
      "Observation: \u001b[36;1m\u001b[1;3m<b>Model 3</b> | <b>Tesla</b> 360° Rear, side and forward-facing cameras provide maximum visibility 250 m Powerful visual processing at up to 250 meters of range <b>Tesla</b> Vision detects nearby cars, helps prevent potential collisions and assists with parking <b>2023</b> <b>Tesla</b> <b>Model</b> <b>3</b> MSRP range: $42,990 - $53,990 Pricing Review Compare Features +28 good 8.0 / 10 Edmunds Rating The <b>Tesla</b> <b>Model</b> <b>3</b> delivers an overall enjoyable driving experience.... Instant-on electric torque makes the <b>Model</b> <b>3</b> quite quick. With 258 hp and 307 lb-ft on tap, a single-motor rear-drive <b>model</b> zipped from 0 to 60 mph in 5.0 seconds in MotorTrend testing. Packing ... The <b>2023</b> <b>Model</b> <b>3</b> starts at $46,990 for the rear-wheel-drive base <b>model</b>. The all-wheel-drive Performance trim is priced from $62,990. Pricing for the midtier Long Range <b>model</b> has not been... The Long Range <b>Model</b> <b>3</b> used to start at $55,990 and reach a top end <b>price</b> of $72,490, but that version is currently not available until sometime in <b>2023</b>, so pricing has been removed for... The <b>2023</b> <b>Tesla Model 3</b> starts at $42,990. That’s for the base version with rear-wheel drive and a maximum range of 272 miles. For those seeking maximum thrills in a <b>Model</b> <b>3</b> package, the... 164 cars for sale found, starting at $25,000. Average <b>price</b> for Black <b>2023</b> <b>Tesla</b> <b>Model</b> <b>3</b>: $40,149. 98 deals found. Average savings of $5,940. Save up to $10,898 below estimated market <b>price</b>.\u001b[0m\n",
      "Thought:\u001b[32;1m\u001b[1;3m I now know the final answer.\n",
      "Final Answer: The BMW X1 2023 is more affordable than the Tesla Model 3 2023, with a base price of $38,600 compared to the Model 3's base price of $42,990.\u001b[0m\n",
      "\n",
      "\u001b[1m> Finished chain.\u001b[0m\n",
      "The BMW X1 2023 is more affordable than the Tesla Model 3 2023, with a base price of $38,600 compared to the Model 3's base price of $42,990.\n"
     ]
    }
   ],
   "source": [
    "from langchain.agents import load_tools\n",
    "from langchain.agents import initialize_agent\n",
    "\n",
    "# Next, let's load some tools to use. Note that the `llm-math` tool uses an LLM, so we need to pass that in.\n",
    "tools = load_tools([\"bing-search\", \"llm-math\"], llm=llm)\n",
    "\n",
    "# Finally, let's initialize an agent with the tools, the language model, and the type of agent we want to use.\n",
    "agent = initialize_agent(tools, llm, agent=\"zero-shot-react-description\", verbose=True, return_intermediate_steps=True)\n",
    "\n",
    "# Now let's test it out!\n",
    "response = agent({\"input\":\"Is BMW X1 2023 more affortable than Tesla model 3 2023? List prices for both cars.\"})\n",
    "print(response['output'])"
   ]
  },
  {
   "cell_type": "code",
   "execution_count": null,
   "metadata": {},
   "outputs": [],
   "source": []
  }
 ],
 "metadata": {
  "kernelspec": {
   "display_name": "azureml_py310_sdkv2",
   "language": "python",
   "name": "python3"
  },
  "language_info": {
   "codemirror_mode": {
    "name": "ipython",
    "version": 3
   },
   "file_extension": ".py",
   "mimetype": "text/x-python",
   "name": "python",
   "nbconvert_exporter": "python",
   "pygments_lexer": "ipython3",
   "version": "3.10.9"
  },
  "orig_nbformat": 4
 },
 "nbformat": 4,
 "nbformat_minor": 2
}
