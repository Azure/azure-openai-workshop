{
  "cells": [
    {
      "cell_type": "code",
      "execution_count": 5,
      "metadata": {
        "gather": {
          "logged": 1674832771708
        },
        "jupyter": {
          "outputs_hidden": false,
          "source_hidden": false
        },
        "nteract": {
          "transient": {
            "deleting": false
          }
        }
      },
      "outputs": [],
      "source": [
        "# Source: https://learn.microsoft.com/en-us/azure/cognitive-services/openai/tutorials/embeddings?tabs=command-line"
      ]
    },
    {
      "cell_type": "markdown",
      "metadata": {
        "nteract": {
          "transient": {
            "deleting": false
          }
        }
      },
      "source": [
        "![](images/doc-clustering-and-theme-generation.jpg)"
      ]
    },
    {
      "cell_type": "markdown",
      "metadata": {
        "nteract": {
          "transient": {
            "deleting": false
          }
        }
      },
      "source": [
        "# Overview  \n",
        "Working with embeddings and summarizatoin, to find clusters of similar documents and their corresponding themes.  \n",
        "* Download CNN daily news dataset  \n",
        "* Generate embeddings for each document (using OpenAI)\n",
        "* Find clusters of similar documents (Kmeans/sklearn)\n",
        "* Generate a short summary of each document (OpenAI)\n",
        "* Generate themes across each cluster of documents (OpenAI)"
      ]
    },
    {
      "cell_type": "code",
      "execution_count": 6,
      "metadata": {
        "gather": {
          "logged": 1675173776664
        },
        "jupyter": {
          "outputs_hidden": true
        }
      },
      "outputs": [
        {
          "ename": "SyntaxError",
          "evalue": "invalid syntax (2555534135.py, line 2)",
          "output_type": "error",
          "traceback": [
            "\u001b[0;36m  Input \u001b[0;32mIn [6]\u001b[0;36m\u001b[0m\n\u001b[0;31m    pip install datasets\u001b[0m\n\u001b[0m        ^\u001b[0m\n\u001b[0;31mSyntaxError\u001b[0m\u001b[0;31m:\u001b[0m invalid syntax\n"
          ]
        }
      ],
      "source": [
        "#Install open source datasets library from HuggingFace\n",
        "# !pip install datasets"
      ]
    },
    {
      "cell_type": "code",
      "execution_count": 10,
      "metadata": {
        "gather": {
          "logged": 1674833763006
        },
        "jupyter": {
          "outputs_hidden": false,
          "source_hidden": false
        },
        "nteract": {
          "transient": {
            "deleting": false
          }
        }
      },
      "outputs": [
        {
          "name": "stderr",
          "output_type": "stream",
          "text": [
            "Found cached dataset cnn_dailymail (/home/azureuser/.cache/huggingface/datasets/cnn_dailymail/3.0.0/3.0.0/1b3c71476f6d152c31c1730e83ccb08bcf23e348233f4fcc11e182248e6bf7de)\n"
          ]
        },
        {
          "data": {
            "text/plain": [
              "' The CNN / DailyMail Dataset is an English-language dataset containing just over 300k unique news articles as\\nwritten by journalists at CNN and the Daily Mail. The current version supports both extractive and abstractive\\nsummarization, though the original version was created for machine reading and comprehension and abstractive \\nquestion answering. '"
            ]
          },
          "execution_count": 10,
          "metadata": {},
          "output_type": "execute_result"
        }
      ],
      "source": [
        "# Load CNN daily news dataset\n",
        "from datasets import load_dataset\n",
        "\n",
        "\n",
        "dataset = load_dataset('cnn_dailymail', '3.0.0', split=\"train[:10%]\")\n",
        "# source: https://huggingface.co/datasets/cnn_dailymail\n",
        "\n",
        "# Dataset description\n",
        "''' The CNN / DailyMail Dataset is an English-language dataset containing just over 300k unique news articles as\n",
        "written by journalists at CNN and the Daily Mail. The current version supports both extractive and abstractive\n",
        "summarization, though the original version was created for machine reading and comprehension and abstractive \n",
        "question answering. '''"
      ]
    },
    {
      "cell_type": "code",
      "execution_count": 10,
      "metadata": {
        "gather": {
          "logged": 1674685264799
        },
        "jupyter": {
          "outputs_hidden": false,
          "source_hidden": false
        },
        "nteract": {
          "transient": {
            "deleting": false
          }
        }
      },
      "outputs": [
        {
          "data": {
            "text/plain": [
              "Dataset({\n",
              "    features: ['article', 'highlights', 'id'],\n",
              "    num_rows: 28711\n",
              "})"
            ]
          },
          "execution_count": 10,
          "metadata": {},
          "output_type": "execute_result"
        }
      ],
      "source": [
        "# dataset highlights\n",
        "dataset"
      ]
    },
    {
      "cell_type": "code",
      "execution_count": 11,
      "metadata": {
        "gather": {
          "logged": 1674833770328
        },
        "jupyter": {
          "outputs_hidden": false,
          "source_hidden": false
        },
        "nteract": {
          "transient": {
            "deleting": false
          }
        }
      },
      "outputs": [
        {
          "data": {
            "text/html": [
              "<div>\n",
              "<style scoped>\n",
              "    .dataframe tbody tr th:only-of-type {\n",
              "        vertical-align: middle;\n",
              "    }\n",
              "\n",
              "    .dataframe tbody tr th {\n",
              "        vertical-align: top;\n",
              "    }\n",
              "\n",
              "    .dataframe thead th {\n",
              "        text-align: right;\n",
              "    }\n",
              "</style>\n",
              "<table border=\"1\" class=\"dataframe\">\n",
              "  <thead>\n",
              "    <tr style=\"text-align: right;\">\n",
              "      <th></th>\n",
              "      <th>article</th>\n",
              "    </tr>\n",
              "  </thead>\n",
              "  <tbody>\n",
              "    <tr>\n",
              "      <th>0</th>\n",
              "      <td>LONDON, England (Reuters) -- Harry Potter star...</td>\n",
              "    </tr>\n",
              "    <tr>\n",
              "      <th>1</th>\n",
              "      <td>Editor's note: In our Behind the Scenes series...</td>\n",
              "    </tr>\n",
              "    <tr>\n",
              "      <th>2</th>\n",
              "      <td>MINNEAPOLIS, Minnesota (CNN) -- Drivers who we...</td>\n",
              "    </tr>\n",
              "    <tr>\n",
              "      <th>3</th>\n",
              "      <td>WASHINGTON (CNN) -- Doctors removed five small...</td>\n",
              "    </tr>\n",
              "    <tr>\n",
              "      <th>4</th>\n",
              "      <td>(CNN)  -- The National Football League has ind...</td>\n",
              "    </tr>\n",
              "  </tbody>\n",
              "</table>\n",
              "</div>"
            ],
            "text/plain": [
              "                                             article\n",
              "0  LONDON, England (Reuters) -- Harry Potter star...\n",
              "1  Editor's note: In our Behind the Scenes series...\n",
              "2  MINNEAPOLIS, Minnesota (CNN) -- Drivers who we...\n",
              "3  WASHINGTON (CNN) -- Doctors removed five small...\n",
              "4  (CNN)  -- The National Football League has ind..."
            ]
          },
          "execution_count": 11,
          "metadata": {},
          "output_type": "execute_result"
        }
      ],
      "source": [
        "df = dataset.to_pandas().head(5000) # convert to pandas dataframe\n",
        "df = df[['article']]                # subset to \"article\" column\n",
        "df.head()"
      ]
    },
    {
      "cell_type": "markdown",
      "metadata": {
        "nteract": {
          "transient": {
            "deleting": false
          }
        }
      },
      "source": [
        "## Create embeddings\n",
        "### Install Open AI library and import helper libraries"
      ]
    },
    {
      "cell_type": "code",
      "execution_count": 12,
      "metadata": {
        "gather": {
          "logged": 1674685271822
        },
        "jupyter": {
          "outputs_hidden": true,
          "source_hidden": false
        },
        "nteract": {
          "transient": {
            "deleting": false
          }
        }
      },
      "outputs": [
        {
          "name": "stdout",
          "output_type": "stream",
          "text": [
            "Requirement already satisfied: openai in /anaconda/envs/azureml_py310_sdkv2/lib/python3.10/site-packages (0.26.3)\n",
            "Requirement already satisfied: requests>=2.20 in /anaconda/envs/azureml_py310_sdkv2/lib/python3.10/site-packages (from openai) (2.28.2)\n",
            "Requirement already satisfied: aiohttp in /anaconda/envs/azureml_py310_sdkv2/lib/python3.10/site-packages (from openai) (3.8.3)\n",
            "Requirement already satisfied: tqdm in /anaconda/envs/azureml_py310_sdkv2/lib/python3.10/site-packages (from openai) (4.64.1)\n",
            "Requirement already satisfied: urllib3<1.27,>=1.21.1 in /anaconda/envs/azureml_py310_sdkv2/lib/python3.10/site-packages (from requests>=2.20->openai) (1.26.14)\n",
            "Requirement already satisfied: charset-normalizer<4,>=2 in /anaconda/envs/azureml_py310_sdkv2/lib/python3.10/site-packages (from requests>=2.20->openai) (2.1.1)\n",
            "Requirement already satisfied: certifi>=2017.4.17 in /anaconda/envs/azureml_py310_sdkv2/lib/python3.10/site-packages (from requests>=2.20->openai) (2022.6.15)\n",
            "Requirement already satisfied: idna<4,>=2.5 in /anaconda/envs/azureml_py310_sdkv2/lib/python3.10/site-packages (from requests>=2.20->openai) (3.4)\n",
            "Requirement already satisfied: async-timeout<5.0,>=4.0.0a3 in /anaconda/envs/azureml_py310_sdkv2/lib/python3.10/site-packages (from aiohttp->openai) (4.0.2)\n",
            "Requirement already satisfied: multidict<7.0,>=4.5 in /anaconda/envs/azureml_py310_sdkv2/lib/python3.10/site-packages (from aiohttp->openai) (6.0.4)\n",
            "Requirement already satisfied: yarl<2.0,>=1.0 in /anaconda/envs/azureml_py310_sdkv2/lib/python3.10/site-packages (from aiohttp->openai) (1.8.2)\n",
            "Requirement already satisfied: frozenlist>=1.1.1 in /anaconda/envs/azureml_py310_sdkv2/lib/python3.10/site-packages (from aiohttp->openai) (1.3.3)\n",
            "Requirement already satisfied: attrs>=17.3.0 in /anaconda/envs/azureml_py310_sdkv2/lib/python3.10/site-packages (from aiohttp->openai) (22.2.0)\n",
            "Requirement already satisfied: aiosignal>=1.1.2 in /anaconda/envs/azureml_py310_sdkv2/lib/python3.10/site-packages (from aiohttp->openai) (1.3.1)\n",
            "Note: you may need to restart the kernel to use updated packages.\n"
          ]
        }
      ],
      "source": [
        "#Install OpenAI library\n",
        "pip install openai"
      ]
    },
    {
      "cell_type": "code",
      "execution_count": 12,
      "metadata": {
        "gather": {
          "logged": 1674833774130
        },
        "jupyter": {
          "outputs_hidden": false,
          "source_hidden": false
        },
        "nteract": {
          "transient": {
            "deleting": false
          }
        }
      },
      "outputs": [],
      "source": [
        "import os\n",
        "import openai\n",
        "from openai.embeddings_utils import get_embedding, cosine_similarity\n",
        "\n",
        "openai.api_type = \"azure\"\n",
        "openai.api_base = os.getenv('OPENAI_API_ENDPOINT') \n",
        "openai.api_version = \"2022-12-01\"\n",
        "openai.api_key = os.getenv(\"OPENAI_API_KEY\")"
      ]
    },
    {
      "cell_type": "markdown",
      "metadata": {
        "nteract": {
          "transient": {
            "deleting": false
          }
        }
      },
      "source": [
        "### Set your deployment model\n",
        "This model should be deployed in your OpenAI deployments. A \"text-search-xxx-doc\" model will be leveraged for generating document embeddings, for querying against. These models help measure whether long documents are relevant to a short search query. There are two input types supported by this family: \"doc\", for embedding the documents to be retrieved, and \"query\", for embedding the search query. \n",
        "\n",
        "**Model taxonomy**: {family} - {capability} - {input-type} - {identifier}  \n",
        "\n",
        "{family}     --> text-search   (general text GPT-3 model)  \n",
        "{capability} --> babbage  (curie is second most powerful in ada-babbage-curie-davinci family)  \n",
        "{input-type} --> doc    (for embedding the documents to be retrieved)  \n",
        "{identifier} --> 001    (version 001)  \n",
        "\n",
        "model = 'text-search-babbage-doc-001'"
      ]
    },
    {
      "cell_type": "code",
      "execution_count": 13,
      "metadata": {
        "gather": {
          "logged": 1674833777662
        },
        "jupyter": {
          "outputs_hidden": false,
          "source_hidden": false
        },
        "nteract": {
          "transient": {
            "deleting": false
          }
        }
      },
      "outputs": [],
      "source": [
        "deployment_model = 'text-search-babbage-doc-001'"
      ]
    },
    {
      "cell_type": "code",
      "execution_count": 15,
      "metadata": {
        "gather": {
          "logged": 1674833790506
        },
        "jupyter": {
          "outputs_hidden": false,
          "source_hidden": false
        },
        "nteract": {
          "transient": {
            "deleting": false
          }
        }
      },
      "outputs": [],
      "source": [
        "# For demo - Limit api calls.\n",
        "mini_df = df.head(100)"
      ]
    },
    {
      "cell_type": "code",
      "execution_count": 17,
      "metadata": {
        "gather": {
          "logged": 1674685296475
        },
        "jupyter": {
          "outputs_hidden": false,
          "source_hidden": false
        },
        "nteract": {
          "transient": {
            "deleting": false
          }
        }
      },
      "outputs": [
        {
          "data": {
            "text/plain": [
              "0     LONDON, England (Reuters) -- Harry Potter star...\n",
              "1     Editor's note: In our Behind the Scenes series...\n",
              "2     MINNEAPOLIS, Minnesota (CNN) -- Drivers who we...\n",
              "3     WASHINGTON (CNN) -- Doctors removed five small...\n",
              "4     (CNN)  -- The National Football League has ind...\n",
              "                            ...                        \n",
              "75    (CNN) -- The owner of a North Carolina beach h...\n",
              "76    LONDON, England (CNN) -- The head of Britain's...\n",
              "77    SAN DIEGO, California (CNN) -- You must know w...\n",
              "78    ROME, Italy -- Mauro Camoranesi scored with 13...\n",
              "79    (CNN)  -- One Australian soldier, three civili...\n",
              "Name: article, Length: 80, dtype: object"
            ]
          },
          "execution_count": 17,
          "metadata": {},
          "output_type": "execute_result"
        }
      ],
      "source": [
        "mini_df.article"
      ]
    },
    {
      "cell_type": "code",
      "execution_count": 16,
      "metadata": {
        "gather": {
          "logged": 1674833795696
        },
        "jupyter": {
          "outputs_hidden": false,
          "source_hidden": false
        },
        "nteract": {
          "transient": {
            "deleting": false
          }
        }
      },
      "outputs": [
        {
          "name": "stdout",
          "output_type": "stream",
          "text": [
            "0    LONDON, England (Reuters) -- Harry Potter star...\n",
            "Name: article, dtype: object\n"
          ]
        }
      ],
      "source": [
        "# limit size\n",
        "max_size = 2048\n",
        "mini_df['article'] = mini_df['article'].str.split(n=max_size).str[:max_size].str.join(' ')\n",
        "print(mini_df['article'].head(1))"
      ]
    },
    {
      "cell_type": "markdown",
      "metadata": {
        "nteract": {
          "transient": {
            "deleting": false
          }
        }
      },
      "source": [
        "## Compute embeddings for each article calling an OpenAI embeddings model\n",
        "#### This api call can take a significant time to process"
      ]
    },
    {
      "cell_type": "code",
      "execution_count": 51,
      "metadata": {
        "gather": {
          "logged": 1674841395629
        },
        "jupyter": {
          "outputs_hidden": false,
          "source_hidden": false
        },
        "nteract": {
          "transient": {
            "deleting": false
          }
        }
      },
      "outputs": [],
      "source": [
        "mini_df['babbage_search'] = mini_df[\"article\"].apply(lambda x : get_embedding(x, engine = deployment_model))"
      ]
    },
    {
      "cell_type": "code",
      "execution_count": 50,
      "metadata": {
        "gather": {
          "logged": 1674841283802
        },
        "jupyter": {
          "outputs_hidden": false,
          "source_hidden": false
        },
        "nteract": {
          "transient": {
            "deleting": false
          }
        }
      },
      "outputs": [
        {
          "data": {
            "text/plain": [
              "0     [-0.019866133108735085, 0.018403055146336555, ...\n",
              "1     [-0.017632996663451195, 0.015490160323679447, ...\n",
              "2     [-0.02926699072122574, 0.030972033739089966, -...\n",
              "3     [-0.03963899612426758, 0.018653646111488342, -...\n",
              "4     [-0.03304106369614601, -0.006709795445203781, ...\n",
              "                            ...                        \n",
              "95    [-0.016215438023209572, 0.011788046918809414, ...\n",
              "96    [-0.009694568812847137, 0.02125215157866478, 0...\n",
              "97    [-0.02659847028553486, 0.008203140459954739, 0...\n",
              "98    [-0.00768100144341588, 0.004722259938716888, 0...\n",
              "99    [-0.019009996205568314, 0.018992343917489052, ...\n",
              "Name: babbage_search, Length: 100, dtype: object"
            ]
          },
          "execution_count": 50,
          "metadata": {},
          "output_type": "execute_result"
        }
      ],
      "source": [
        "# Inspect embeddings. There should be an embeddings vector for each document\n",
        "print(\"doc embedding length: \", len(mini_df['babbage_search'].iloc[0]), \"\\n\")\n",
        "mini_df['babbage_search']"
      ]
    },
    {
      "cell_type": "markdown",
      "metadata": {
        "nteract": {
          "transient": {
            "deleting": false
          }
        }
      },
      "source": [
        "# Considering Chunking Texts for limiting doc input size  \n",
        "To learn more about embeddings, check out the [Learn more about OpenAI embeddings](https://beta.openai.com/docs/guides/embeddings)   \n",
        "\n",
        "https://github.com/openai/openai-cookbook/blob/main/examples/Embedding_long_inputs.ipynb"
      ]
    },
    {
      "cell_type": "markdown",
      "metadata": {
        "nteract": {
          "transient": {
            "deleting": false
          }
        }
      },
      "source": [
        "## Clustering\n",
        "\n",
        "We use a simple k-means algorithm to demonstrate how clustering can be done. Clustering can help discover valuable, hidden groupings within the data. The dataset is created in the [Obtain_dataset Notebook](Obtain_dataset.ipynb)."
      ]
    },
    {
      "cell_type": "code",
      "execution_count": null,
      "metadata": {
        "gather": {
          "logged": 1674841241725
        },
        "jupyter": {
          "outputs_hidden": false,
          "source_hidden": false
        },
        "nteract": {
          "transient": {
            "deleting": false
          }
        }
      },
      "outputs": [],
      "source": [
        "# imports\n",
        "import numpy as np\n",
        "\n",
        "# load data\n",
        "# mini_df[\"babbage_search\"] = mini_df.babbage_search.apply(eval).apply(np.array)  # convert string to numpy array if initial dataframe construction interpreted embeddings as type string/object\n",
        "matrix = np.vstack(mini_df.babbage_search.values)\n",
        "matrix.shape"
      ]
    },
    {
      "cell_type": "markdown",
      "metadata": {
        "nteract": {
          "transient": {
            "deleting": false
          }
        }
      },
      "source": [
        "### 1. Find the clusters using K-means\n",
        "\n",
        "We show the simplest use of K-means. You can pick the number of clusters that fits your use case best.  \n",
        "\n",
        "While scikit-learn is used in this example, further reference on K-means clustering, and quick deployment within Azure Machine Learning, can be found at [https://learn.microsoft.com/en-us/azure/machine-learning/component-reference/k-means-clustering]"
      ]
    },
    {
      "cell_type": "code",
      "execution_count": 63,
      "metadata": {
        "gather": {
          "logged": 1674842700342
        },
        "jupyter": {
          "outputs_hidden": false,
          "source_hidden": false
        },
        "nteract": {
          "transient": {
            "deleting": false
          }
        }
      },
      "outputs": [
        {
          "name": "stderr",
          "output_type": "stream",
          "text": [
            "/anaconda/envs/azureml_py310_sdkv2/lib/python3.10/site-packages/sklearn/cluster/_kmeans.py:870: FutureWarning: The default value of `n_init` will change from 10 to 'auto' in 1.4. Set the value of `n_init` explicitly to suppress the warning\n",
            "  warnings.warn(\n"
          ]
        }
      ],
      "source": [
        "#Cluster the articles into several (n_clusters) clusters, and then save those cluster labels as new column in our mini_df dataframe (called \"Cluster\")\n",
        "from sklearn.cluster import KMeans\n",
        "\n",
        "n_clusters = 6\n",
        "\n",
        "kmeans = KMeans(n_clusters=n_clusters, init=\"k-means++\", random_state=42)\n",
        "kmeans.fit(matrix)\n",
        "labels = kmeans.labels_\n",
        "mini_df[\"Cluster\"] = labels"
      ]
    },
    {
      "cell_type": "markdown",
      "metadata": {
        "nteract": {
          "transient": {
            "deleting": false
          }
        }
      },
      "source": [
        "## TSNE is very popular for visualizing high dimensional data"
      ]
    },
    {
      "cell_type": "code",
      "execution_count": 64,
      "metadata": {
        "gather": {
          "logged": 1674842775173
        },
        "jupyter": {
          "outputs_hidden": false,
          "source_hidden": false
        },
        "nteract": {
          "transient": {
            "deleting": false
          }
        }
      },
      "outputs": [
        {
          "data": {
            "text/plain": [
              "Text(0.5, 1.0, 'Clusters identified visualized in language 2d using t-SNE')"
            ]
          },
          "execution_count": 64,
          "metadata": {},
          "output_type": "execute_result"
        },
        {
          "data": {
            "image/png": "[encoded data removed]",
            "text/plain": [
              "<Figure size 432x288 with 1 Axes>"
            ]
          },
          "metadata": {
            "needs_background": "light"
          },
          "output_type": "display_data"
        }
      ],
      "source": [
        "from sklearn.manifold import TSNE\n",
        "import matplotlib\n",
        "import matplotlib.pyplot as plt\n",
        "\n",
        "tsne = TSNE(n_components=2, perplexity=15, random_state=25, init=\"random\", learning_rate=10)\n",
        "vis_dims2 = tsne.fit_transform(matrix)\n",
        "\n",
        "x = [x for x, y in vis_dims2]\n",
        "y = [y for x, y in vis_dims2]\n",
        "\n",
        "for category, color in enumerate([\"purple\", \"green\", \"red\", \"blue\",\"yellow\",\"orange\"]):\n",
        "    xs = np.array(x)[mini_df.Cluster == category]\n",
        "    ys = np.array(y)[mini_df.Cluster == category]\n",
        "    plt.scatter(xs, ys, color=color, alpha=0.3)\n",
        "\n",
        "    avg_x = xs.mean()\n",
        "    avg_y = ys.mean()\n",
        "\n",
        "    plt.scatter(avg_x, avg_y, marker=\"x\", color=color, s=100)\n",
        "plt.title(\"Clusters identified visualized in language 2d using t-SNE\")"
      ]
    },
    {
      "cell_type": "markdown",
      "metadata": {
        "nteract": {
          "transient": {
            "deleting": false
          }
        }
      },
      "source": [
        "### Generate overall summary for each article\n",
        "One of the great aspects of the cnn daily news dataset are the corresponding highlights / summary of each artcile. For this lab, we'll instead use OpenAI to generate a summary for each, for inspecting each cluster\n"
      ]
    },
    {
      "cell_type": "code",
      "execution_count": 1,
      "metadata": {
        "gather": {
          "logged": 1674935635891
        },
        "jupyter": {
          "outputs_hidden": false,
          "source_hidden": false
        },
        "nteract": {
          "transient": {
            "deleting": false
          }
        }
      },
      "outputs": [
        {
          "name": "stderr",
          "output_type": "stream",
          "text": [
            "Bad pipe message: %s [b'\\xac\\xdc\\xdcl(\\xf6\\xaf\\x8d\\xbf\\r0\\xfd\\xbdC\\x88\\x18H\\xc9 \\x82x\\x17\\xfd\\xd2\\xf9\\xb9\\xfd\\x10\\x83\\xd1\\xef', b'\\x8b\\x1f\\x95e\\xb3\\x96\\xf3\\xfe\\xf1>\\xf8\\x89\\xc3\\x12H\\x16\\x7fy\\x00\\x08\\x13\\x02\\x13\\x03\\x13\\x01\\x00\\xff\\x01\\x00\\x00\\x8f\\x00\\x00\\x00\\x0e\\x00\\x0c\\x00\\x00\\t127.0.0.1\\x00\\x0b\\x00\\x04\\x03\\x00\\x01\\x02\\x00\\n\\x00\\x0c\\x00\\n\\x00\\x1d\\x00\\x17\\x00\\x1e\\x00\\x19\\x00\\x18\\x00#\\x00\\x00\\x00\\x16\\x00\\x00\\x00\\x17\\x00\\x00\\x00\\r\\x00\\x1e\\x00\\x1c\\x04\\x03\\x05\\x03\\x06\\x03\\x08\\x07\\x08\\x08\\x08\\t\\x08\\n\\x08\\x0b\\x08\\x04\\x08\\x05\\x08\\x06\\x04\\x01\\x05\\x01\\x06\\x01\\x00+\\x00\\x03\\x02\\x03\\x04\\x00-']\n",
            "Bad pipe message: %s [b'9p $\\x97I\\xa9\\x10A\\x06d~\\x03\\xfa\\xa7E\\xcd\\x85 +G\\xd8\\x03\\x98\\xa4\\x1a|\\xd3\\x11\\xffspr\\xdcO0\\xea\\x8aj\\x88\\x1e\\xcc=i\\xb9\\x86\\xfa\\xcdvP\\xa7\\x00\\x08\\x13\\x02\\x13\\x03']\n",
            "Bad pipe message: %s [b'\\x00\\xff\\x01\\x00\\x00\\x8f\\x00\\x00\\x00\\x0e\\x00\\x0c\\x00\\x00\\t127', b'.0.1\\x00\\x0b\\x00\\x04\\x03\\x00\\x01\\x02\\x00\\n\\x00\\x0c\\x00\\n\\x00\\x1d\\x00\\x17\\x00\\x1e\\x00\\x19\\x00\\x18\\x00#\\x00\\x00\\x00\\x16\\x00\\x00\\x00\\x17\\x00\\x00\\x00\\r\\x00\\x1e\\x00']\n",
            "Bad pipe message: %s [b'\\x03\\x05\\x03\\x06\\x03\\x08\\x07\\x08\\x08\\x08\\t\\x08\\n\\x08\\x0b\\x08\\x04\\x08\\x05\\x08\\x06\\x04\\x01\\x05\\x01\\x06\\x01']\n",
            "Bad pipe message: %s [b'h6\\xcd\\xb6\\x02\\xea\\x9d\\x87M']\n",
            "Bad pipe message: %s [b\"\\x15\\xfe:\\xd4\\x90\\xc0\\x06\\x00\\x00|\\xc0,\\xc00\\x00\\xa3\\x00\\x9f\\xcc\\xa9\\xcc\\xa8\\xcc\\xaa\\xc0\\xaf\\xc0\\xad\\xc0\\xa3\\xc0\\x9f\\xc0]\\xc0a\\xc0W\\xc0S\\xc0+\\xc0/\\x00\\xa2\\x00\\x9e\\xc0\\xae\\xc0\\xac\\xc0\\xa2\\xc0\\x9e\\xc0\\\\\\xc0`\\xc0V\\xc0R\\xc0$\\xc0(\\x00k\\x00j\\xc0#\\xc0'\\x00g\\x00@\\xc0\\n\\xc0\\x14\\x009\\x008\\xc0\\t\\xc0\\x13\\x003\\x002\\x00\\x9d\\xc0\\xa1\\xc0\\x9d\\xc0Q\\x00\\x9c\\xc0\\xa0\\xc0\\x9c\\xc0P\\x00=\\x00<\\x005\\x00/\\x00\\x9a\\x00\\x99\\xc0\\x07\\xc0\\x11\\x00\\x96\\x00\\x05\\x00\\xff\\x01\\x00\\x00j\\x00\\x00\\x00\\x0e\\x00\\x0c\\x00\\x00\\t127.0.0.1\\x00\\x0b\\x00\\x04\\x03\\x00\\x01\\x02\\x00\\n\\x00\\x0c\\x00\\n\\x00\\x1d\\x00\\x17\\x00\\x1e\\x00\\x19\\x00\", b'#\\x00\\x00\\x00\\x16\\x00\\x00\\x00\\x17\\x00\\x00\\x00\\r\\x000\\x00.\\x04\\x03\\x05\\x03\\x06\\x03']\n",
            "Bad pipe message: %s [b'\\x08\\x08\\x08\\t\\x08\\n\\x08', b'\\x04\\x08\\x05\\x08\\x06\\x04\\x01\\x05\\x01\\x06']\n",
            "Bad pipe message: %s [b'', b'\\x03\\x03']\n",
            "Bad pipe message: %s [b'']\n",
            "Bad pipe message: %s [b'', b'\\x02']\n",
            "Bad pipe message: %s [b'\\x05\\x02\\x06']\n",
            "Bad pipe message: %s [b'\\xde\\x0c\\x16\\xfb?\\x13\\xc06#\\xfaz\\xca5\\xda;\"\\xffC\\x00\\x00\\xa6\\xc0,\\xc00\\x00\\xa3\\x00\\x9f\\xcc\\xa9\\xcc\\xa8\\xcc\\xaa\\xc0\\xaf\\xc0\\xad\\xc0\\xa3\\xc0\\x9f\\xc0]\\xc0a\\xc0W\\xc0S\\xc0+\\xc0/\\x00\\xa2\\x00\\x9e\\xc0\\xae\\xc0\\xac\\xc0\\xa2\\xc0\\x9e\\xc0\\\\\\xc0`\\xc0V\\xc0R\\xc0$\\xc0(\\x00k\\x00j\\xc0s\\xc0w\\x00\\xc4\\x00\\xc3\\xc0#\\xc0\\'\\x00g\\x00@\\xc0r\\xc0v\\x00\\xbe\\x00\\xbd\\xc0\\n\\xc0\\x14\\x009\\x008\\x00\\x88\\x00\\x87\\xc0\\t\\xc0\\x13\\x003\\x002']\n",
            "Bad pipe message: %s [b'\\xadc\\x1f+\\x88\\\\\\xae\\xe6\\x0e\\xcek}\\xf8\\xb8\\xe4\\xfc\\xfb\\x91\\x00\\x00\\xa2\\xc0\\x14\\xc0\\n\\x009\\x008\\x007\\x006\\x00\\x88\\x00\\x87\\x00\\x86\\x00\\x85\\xc0\\x19\\x00:\\x00\\x89\\xc0\\x0f\\xc0\\x05\\x005\\x00\\x84\\xc0\\x13\\xc0\\t\\x003\\x002\\x001\\x000\\x00\\x9a\\x00\\x99\\x00\\x98\\x00\\x97\\x00E\\x00D\\x00C\\x00B\\xc0\\x18\\x004\\x00\\x9b\\x00F\\xc0\\x0e\\xc0\\x04\\x00/\\x00\\x96\\x00A\\x00\\x07\\xc0\\x11\\xc0\\x07\\xc0\\x16\\x00\\x18\\xc0\\x0c\\xc0\\x02\\x00\\x05\\x00\\x04\\xc0\\x12\\xc0\\x08\\x00\\x16\\x00\\x13\\x00\\x10\\x00\\r\\xc0\\x17\\x00\\x1b\\xc0\\r\\xc0\\x03\\x00\\n\\x00\\x15\\x00\\x12\\x00\\x0f\\x00\\x0c\\x00\\x1a\\x00\\t\\x00\\x14\\x00\\x11\\x00\\x19\\x00\\x08']\n",
            "Bad pipe message: %s [b'!\\x9ak3p8\\xf0l\\xe3\\xdf\\xe4VjPA\\x90n \\x00\\x00\\xa2\\xc0\\x14\\xc0\\n\\x009\\x008\\x007\\x006\\x00\\x88\\x00\\x87\\x00\\x86\\x00\\x85\\xc0\\x19\\x00:\\x00\\x89\\xc0']\n",
            "Bad pipe message: %s [b'\\x05\\x005\\x00\\x84\\xc0\\x13\\xc0\\t\\x003\\x002\\x00']\n",
            "Bad pipe message: %s [b'0\\x00\\x9a\\x00\\x99\\x00\\x98\\x00\\x97\\x00E\\x00D\\x00C\\x00B\\xc0\\x18\\x004\\x00\\x9b\\x00F\\xc0\\x0e\\xc0\\x04\\x00/\\x00\\x96\\x00A\\x00\\x07\\xc0\\x11\\xc0\\x07\\xc0\\x16\\x00\\x18\\xc0\\x0c\\xc0']\n",
            "Bad pipe message: %s [b'\\x05']\n",
            "Bad pipe message: %s [b'']\n",
            "Bad pipe message: %s [b'\\xb8\\xaav\\x197\\x82Q>\\xce\\xf4zE\\xe1\\xf5\\x84y\\x00\\x00\\xa2\\xc0\\x14\\xc0\\n\\x009\\x008\\x007\\x006\\x00\\x88\\x00\\x87\\x00\\x86\\x00\\x85\\xc0\\x19\\x00:\\x00\\x89\\xc0\\x0f\\xc0\\x05\\x005\\x00\\x84\\xc0\\x13\\xc0\\t\\x003\\x002\\x001\\x000\\x00\\x9a\\x00\\x99\\x00\\x98\\x00\\x97\\x00E\\x00D\\x00C\\x00B\\xc0\\x18\\x004\\x00\\x9b\\x00F\\xc0\\x0e\\xc0\\x04\\x00/\\x00\\x96\\x00A\\x00\\x07\\xc0\\x11\\xc0\\x07\\xc0\\x16\\x00\\x18\\xc0\\x0c\\xc0\\x02']\n",
            "Bad pipe message: %s [b\"\\xf2\\x99Yu\\x14\\xe0\\xcb\\x94\\x94Y\\xf6\\xf3 \\xfd\\x0f\\xf3.\\x0e\\x00\\x00\\x86\\xc00\\xc0,\\xc0(\\xc0$\\xc0\\x14\\xc0\\n\\x00\\xa5\\x00\\xa3\\x00\\xa1\\x00\\x9f\\x00k\\x00j\\x00i\\x00h\\x009\\x008\\x007\\x006\\xc02\\xc0.\\xc0*\\xc0&\\xc0\\x0f\\xc0\\x05\\x00\\x9d\\x00=\\x005\\xc0/\\xc0+\\xc0'\\xc0#\\xc0\\x13\\xc0\\t\\x00\\xa4\\x00\\xa2\\x00\\xa0\\x00\\x9e\\x00g\\x00@\\x00?\\x00>\\x003\\x002\\x001\\x000\\xc01\\xc0-\\xc0)\\xc0%\\xc0\\x0e\\xc0\", b'\\x9c\\x00<']\n",
            "Bad pipe message: %s [b\"\\x10S\\xea(\\xd2\\xc0J\\xe6\\x13K\\xe3\\xa0\\x84\\xc4\\x9d\\x84\\x86\\x9d\\x00\\x00\\xf4\\xc00\\xc0,\\xc0(\\xc0$\\xc0\\x14\\xc0\\n\\x00\\xa5\\x00\\xa3\\x00\\xa1\\x00\\x9f\\x00k\\x00j\\x00i\\x00h\\x009\\x008\\x007\\x006\\x00\\x88\\x00\\x87\\x00\\x86\\x00\\x85\\xc0\\x19\\x00\\xa7\\x00m\\x00:\\x00\\x89\\xc02\\xc0.\\xc0*\\xc0&\\xc0\\x0f\\xc0\\x05\\x00\\x9d\\x00=\\x005\\x00\\x84\\xc0/\\xc0+\\xc0'\\xc0#\\xc0\\x13\\xc0\\t\\x00\\xa4\\x00\\xa2\\x00\\xa0\\x00\\x9e\\x00g\\x00@\\x00?\\x00>\\x003\\x002\\x001\\x000\\x00\\x9a\\x00\\x99\\x00\\x98\\x00\\x97\\x00E\\x00D\\x00C\\x00B\\xc0\\x18\\x00\\xa6\\x00l\\x004\\x00\\x9b\\x00F\\xc01\\xc0-\\xc0)\\xc0%\\xc0\\x0e\\xc0\\x04\\x00\\x9c\\x00<\\x00/\\x00\\x96\\x00A\\x00\"]\n",
            "Bad pipe message: %s [b'\\x11\\xc0\\x07\\xc0\\x16\\x00']\n",
            "Bad pipe message: %s [b'\\x0c\\xc0\\x02\\x00\\x05\\x00\\x04\\xc0\\x12\\xc0\\x08\\x00\\x16\\x00\\x13\\x00\\x10\\x00\\r\\xc0\\x17\\x00\\x1b']\n"
          ]
        }
      ],
      "source": [
        "def summarize_text(text):   \n",
        "    '''helper function for submitting summarization api calls'''\n",
        "    model  = \"text-curie-001\"\n",
        "    prompt = text + \"\\n\\n tl;dr\"\n",
        "\n",
        "    response = openai.Completion.create(\n",
        "        engine=model,\n",
        "        prompt=prompt,\n",
        "        temperature=0.7,\n",
        "        max_tokens=60,\n",
        "        top_p=1,\n",
        "        frequency_penalty=0,\n",
        "        presence_penalty=0,\n",
        "        stop=None)\n",
        "\n",
        "    return(response['choices'][0]['text'])"
      ]
    },
    {
      "cell_type": "markdown",
      "metadata": {
        "nteract": {
          "transient": {
            "deleting": false
          }
        }
      },
      "source": [
        "## Summarize each article!  \n",
        "This will allow quick comparison of articles within each cluster"
      ]
    },
    {
      "cell_type": "code",
      "execution_count": 66,
      "metadata": {
        "gather": {
          "logged": 1674842876800
        },
        "jupyter": {
          "outputs_hidden": false,
          "source_hidden": false
        },
        "nteract": {
          "transient": {
            "deleting": false
          }
        }
      },
      "outputs": [],
      "source": [
        "mini_df['summary'] = mini_df['article'].apply(lambda x: summarize_text(x))"
      ]
    },
    {
      "cell_type": "code",
      "execution_count": 67,
      "metadata": {
        "gather": {
          "logged": 1674842876980
        },
        "jupyter": {
          "outputs_hidden": false,
          "source_hidden": false
        },
        "nteract": {
          "transient": {
            "deleting": false
          }
        }
      },
      "outputs": [
        {
          "data": {
            "text/plain": [
              "0     : 18-year-old Daniel Radcliffe has a reported ...\n",
              "1     : Miami-Dade County's ninth floor is home to i...\n",
              "2     : Survivors tell harrowing tales of survival a...\n",
              "3     :Doctors removed five polyps from President Bu...\n",
              "4      Vick has been indefinitely suspended from the...\n",
              "                            ...                        \n",
              "95    :Witnesses in Colorado are at risk of intimida...\n",
              "96     Newly unseen footage of Diana, Princess of Wa...\n",
              "97    : Retired Lt. Gen. Ricardo Sanchez criticized ...\n",
              "98    :The Republicans had a free-for-all Wednesday ...\n",
              "99    :Marine general says 1,000 detainees freed in ...\n",
              "Name: summary, Length: 100, dtype: object"
            ]
          },
          "execution_count": 67,
          "metadata": {},
          "output_type": "execute_result"
        }
      ],
      "source": [
        "#clean up and inspect summary results\n",
        "mini_df['summary'] = mini_df['summary'].str.replace(\"\\n\\n\",\"\")\n",
        "mini_df['summary']"
      ]
    },
    {
      "cell_type": "markdown",
      "metadata": {
        "nteract": {
          "transient": {
            "deleting": false
          }
        }
      },
      "source": [
        "How well did the summarization work? Let's view a single article, and the corresponding summary"
      ]
    },
    {
      "cell_type": "code",
      "execution_count": 68,
      "metadata": {
        "gather": {
          "logged": 1674842877152
        },
        "jupyter": {
          "outputs_hidden": false,
          "source_hidden": false
        },
        "nteract": {
          "transient": {
            "deleting": false
          }
        }
      },
      "outputs": [
        {
          "name": "stdout",
          "output_type": "stream",
          "text": [
            "LONDON, England (Reuters) -- Harry Potter star Daniel Radcliffe gains access to a reported £20 million ($41.1 million) fortune as he turns 18 on Monday, but he insists the money won't cast a spell on him. Daniel Radcliffe as Harry Potter in \"Harry Potter and the Order of the Phoenix\" To the disappointment of gossip columnists around the world, the young actor says he has no plans to fritter his cash away on fast cars, drink and celebrity parties. \"I don't plan to be one of those people who, as soon as they turn 18, suddenly buy themselves a massive sports car collection or something similar,\" he told an Australian interviewer earlier this month. \"I don't think I'll be particularly extravagant. \"The things I like buying are things that cost about 10 pounds -- books and CDs and DVDs.\" At 18, Radcliffe will be able to gamble in a casino, buy a drink in a pub or see the horror film \"Hostel: Part II,\" currently six places below his number one movie on the UK box office chart. Details of how he'll mark his landmark birthday are under wraps. His agent and publicist had no comment on his plans. \"I'll definitely have some sort of party,\" he said in an interview. \"Hopefully none of you will be reading about it.\" Radcliffe's earnings from the first five Potter films have been held in a trust fund which he has not been able to touch. Despite his growing fame and riches, the actor says he is keeping his feet firmly on the ground. \"People are always looking to say 'kid star goes off the rails,'\" he told reporters last month. \"But I try very hard not to go that way because it would be too easy for them.\" His latest outing as the boy wizard in \"Harry Potter and the Order of the Phoenix\" is breaking records on both sides of the Atlantic and he will reprise the role in the last two films. Watch I-Reporter give her review of Potter's latest » . There is life beyond Potter, however. The Londoner has filmed a TV movie called \"My Boy Jack,\" about author Rudyard Kipling and his son, due for release later this year. He will also appear in \"December Boys,\" an Australian film about four boys who escape an orphanage. Earlier this year, he made his stage debut playing a tortured teenager in Peter Shaffer's \"Equus.\" Meanwhile, he is braced for even closer media scrutiny now that he's legally an adult: \"I just think I'm going to be more sort of fair game,\" he told Reuters. E-mail to a friend . Copyright 2007 Reuters. All rights reserved.This material may not be published, broadcast, rewritten, or redistributed.\n"
          ]
        }
      ],
      "source": [
        "print(mini_df['article'].iloc[0])"
      ]
    },
    {
      "cell_type": "code",
      "execution_count": 174,
      "metadata": {
        "gather": {
          "logged": 1674695123974
        },
        "jupyter": {
          "outputs_hidden": false,
          "source_hidden": false
        },
        "nteract": {
          "transient": {
            "deleting": false
          }
        }
      },
      "outputs": [
        {
          "name": "stdout",
          "output_type": "stream",
          "text": [
            ":\n",
            "\n",
            "Daniel Radcliffe is an 18-year-old actor and he is worth an estimated $41.1 million. He doesn't plan to spend his money on fast cars or wild parties, but he does plan to spend his money on books and CDs.\n"
          ]
        }
      ],
      "source": [
        "print(mini_df['summary'].iloc[0])"
      ]
    },
    {
      "cell_type": "markdown",
      "metadata": {
        "nteract": {
          "transient": {
            "deleting": false
          }
        }
      },
      "source": [
        "### 2. Text samples in the clusters & naming the clusters\n",
        "\n",
        "Let's show random samples from each cluster. We'll use davinci to name the clusters, based on a random sample of 4 reviews from that cluster."
      ]
    },
    {
      "cell_type": "code",
      "execution_count": 69,
      "metadata": {
        "gather": {
          "logged": 1674842927845
        },
        "jupyter": {
          "outputs_hidden": false,
          "source_hidden": false
        },
        "nteract": {
          "transient": {
            "deleting": false
          }
        }
      },
      "outputs": [],
      "source": [
        "# model used for summarizing 4 articles within each cluster\n",
        "deployment_model_for_summarization = 'text-davinci-002'"
      ]
    },
    {
      "cell_type": "markdown",
      "metadata": {
        "nteract": {
          "transient": {
            "deleting": false
          }
        }
      },
      "source": [
        "For each cluster of articles:  \n",
        ". . . .collect a sample of articles  \n",
        ". . . .prompt OpenAI model to find what each of those articles have in common <-- these becomes the cluster **\"theme\"**  \n",
        ". . . .print: cluster theme, summary of sample articles (how well did OpenAI model perform?)\n"
      ]
    },
    {
      "cell_type": "code",
      "execution_count": 70,
      "metadata": {
        "gather": {
          "logged": 1674842936270
        },
        "jupyter": {
          "outputs_hidden": false,
          "source_hidden": false
        },
        "nteract": {
          "transient": {
            "deleting": false
          }
        }
      },
      "outputs": [
        {
          "name": "stdout",
          "output_type": "stream",
          "text": [
            "Cluster 0 Theme:  Natural disasters\n",
            "0,: Survivors tell harrowing tales of survival after the Minneapolis bri:   MINNEAPOLIS, Minnesota (CNN) -- Drivers who were on the Minneapolis br\n",
            "0,: A magnitude 4.2 earthquake shook the San Francisco area Friday morni:   SAN FRANCISCO, California (CNN) -- A magnitude 4.2 earthquake shook th\n",
            "0,:More than 100 homes in an upscale San Diego community were evacuated :   SAN DIEGO, California (CNN) -- More than 100 homes in an upscale San D\n",
            "0,:A contestant in Nigeria's \"Gulder Ultimate Search\" show has drowned, :   LAGOS, Nigeria (Reuters) -- Nigeria's television survival show has bee\n",
            "----------------------------------------------------------------------------------------------------\n",
            "Cluster 1 Theme: The theme of these articles is money.\n",
            "1,: 18-year-old Daniel Radcliffe has a reported £20 million ($41.1 milli:   LONDON, England (Reuters) -- Harry Potter star Daniel Radcliffe gains \n",
            "1, Werder Bremen has signed Carlos Alberto from Fluminense for a club re:   BREMEN, Germany -- Carlos Alberto, who scored in FC Porto's Champions \n",
            "1, Italy clinch qualification for Euro 2008 with two late goals at Hampd:   GLASGOW, Scotland -- World champions Italy clinched qualification for \n",
            "1,:Italian striker Francesco Totti threatened to quit the Italian Player:   ROME. Italy -- Italy and Roma striker Francesco Totti has threatened t\n",
            "----------------------------------------------------------------------------------------------------\n",
            "Cluster 2 Theme:  Children in difficult situations\n",
            "2, Howard Schultz will be one of the guests at the China Europe Internat:   (CNN) -- As part of an effort to share the best practices of modern bu\n",
            "2,The head of Britain's intelligence services has warned that children a:   LONDON, England (CNN) -- The head of Britain's intelligence services h\n",
            "2,:A 6-year-old Iraqi boy who was severely burned in an attack is being :   BAGHDAD, Iraq (CNN) -- Dressed in a Superman shirt, 5-year-old Youssif\n",
            "2,:In Jordan, all Iraqi children are allowed to attend state-funded scho:   AMMAN, Jordan (CNN) -- In the sunbathed schoolyard of the Shmisani Ins\n",
            "----------------------------------------------------------------------------------------------------\n",
            "Cluster 3 Theme: The articles all concern individuals or groups who have been accused of breaking the law or engaging in activities that are not legal.\n",
            "3,: Cpl. Trent D. Thomas was sentenced Friday to a reduction in rank and:   (CNN) -- A Marine convicted for his role in the death of an Iraqi civi\n",
            "3,:President Bush vetoed a $600 billion spending bill, accusing Democrat:   NEW ALBANY, Indiana (CNN) -- President Bush vetoed a $600 billion spen\n",
            "3,:Blackwater USA maintains that allegations that it was involved in ill:   WASHINGTON (CNN) -- Allegations that Blackwater USA -- whose operation\n",
            "3,: Three civilians and one Australian soldier were killed in a Taliban :   (CNN) -- One Australian soldier, three civilians and Taliban militants\n",
            "----------------------------------------------------------------------------------------------------\n",
            "Cluster 4 Theme: Each of these articles discusses someone or something with a strong sense of self-importance.\n",
            "4,: These six celebrities had big egos and didn't care who knew it.:   (Mental Floss) -- They say a lot of artistic expression is motivated b\n",
            "4,: Qualcomm is a leading provider of telecommunications technology, wit:   (CNN) -- The company was founded in 1985 by seven communications indus\n",
            "4,: Lindsay Lohan can probably still get work, but the cost will be high:   LOS ANGELES, California (Reuters) -- \"To insure or not to insure?\" It \n",
            "4, John Lewis is a large British company with 67,100 permanent staff. Ev:   (CNN) -- The partnership started as a single shop on Oxford Street in \n",
            "----------------------------------------------------------------------------------------------------\n",
            "Cluster 5 Theme: Each article discusses a crime that has been committed, and the possible consequences that the perpetrator may face.\n",
            "5,:Witnesses in Colorado are at risk of intimidation and violence after :   DENVER, Colorado -- A Colorado man terrorized by threats after testify\n",
            "5,: Sect leader Warren Jeffs attempted to hang himself in jail, but late:   (CNN) -- Polygamist sect leader Warren Jeffs tried to hang himself ear\n",
            "5, Vick has been indefinitely suspended from the NFL for his role in a d:   (CNN) -- The National Football League has indefinitely suspended Atlan\n",
            "5,:A girl who was shown on a videotape being sexually assaulted in Las V:   (CNN) -- A girl who was shown on a videotape being sexually assaulted \n",
            "----------------------------------------------------------------------------------------------------\n"
          ]
        }
      ],
      "source": [
        "# Reading a review which belong to each group.\n",
        "article_per_cluster = 4\n",
        "\n",
        "for i in range(n_clusters):\n",
        "    '''For each cluster, take a sample of articles, generate a common theme across, and print theme & samples'''\n",
        "    print(f\"Cluster {i} Theme:\", end=\" \")\n",
        "\n",
        "    articles = \"\\n\".join(\n",
        "        mini_df[mini_df.Cluster == i]\n",
        "        .summary\n",
        "        .str.replace(\"\\n\\n\", \":  \")\n",
        "        .sample(article_per_cluster, random_state=42)\n",
        "        .values\n",
        "    )\n",
        "    response = openai.Completion.create(\n",
        "        engine=deployment_model_for_summarization,\n",
        "        prompt=f'What do the following articles have in common?\\n\\narticless:\\n\"\"\"\\n{articles}\\n\"\"\"\\n\\nTheme:',\n",
        "        temperature=0,\n",
        "        max_tokens=64,\n",
        "        top_p=1,\n",
        "        frequency_penalty=0,\n",
        "        presence_penalty=0,\n",
        "    )\n",
        "    print(response[\"choices\"][0][\"text\"].replace(\"\\n\", \"\"))\n",
        "\n",
        "    sample_cluster_rows = mini_df[mini_df.Cluster == i].sample(article_per_cluster, random_state=42)\n",
        "    for j in range(article_per_cluster):\n",
        "        print(str(i), end=\",\")\n",
        "        print(sample_cluster_rows.summary.values[j][:70], end=\":   \")\n",
        "        print(sample_cluster_rows.article.str[:70].values[j])\n",
        "\n",
        "    print(\"-\" * 100)"
      ]
    }
  ],
  "metadata": {
    "kernel_info": {
      "name": "python310-sdkv2"
    },
    "kernelspec": {
      "display_name": "Python 3.10 - SDK V2",
      "language": "python",
      "name": "python310-sdkv2"
    },
    "language_info": {
      "codemirror_mode": {
        "name": "ipython",
        "version": 3
      },
      "file_extension": ".py",
      "mimetype": "text/x-python",
      "name": "python",
      "nbconvert_exporter": "python",
      "pygments_lexer": "ipython3",
      "version": "3.10.6 (main, Oct 24 2022, 16:07:47) [GCC 11.2.0]"
    },
    "microsoft": {
      "host": {
        "AzureML": {
          "notebookHasBeenCompleted": true
        }
      }
    },
    "nteract": {
      "version": "nteract-front-end@1.0.0"
    }
  },
  "nbformat": 4,
  "nbformat_minor": 2
}
